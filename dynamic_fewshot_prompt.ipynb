{
 "cells": [
  {
   "cell_type": "markdown",
   "metadata": {},
   "source": [
    "# Dynamic few-shot prompting\n",
    "\n",
    "What we do in this notebook:\n",
    "\n",
    "1. Load synthetic data and embedding (generate with `model_name`).\n",
    "2. Define a function for dynamic few-shot prompting (i.e., dynamically select few-shot examples based on input similarity).\n",
    "3. Generate a response using `gp3-3.5-turbo` model.\n",
    "4. Compare the responses with and without dynamic few-shot prompting."
   ]
  },
  {
   "cell_type": "code",
   "execution_count": 1,
   "metadata": {},
   "outputs": [
    {
     "name": "stderr",
     "output_type": "stream",
     "text": [
      "/home/daniele/Desktop/Projects/dailogy_synthetic_data/.venv_dailogy_sin_data/lib/python3.10/site-packages/environ/environ.py:639: UserWarning: /tmp/ipykernel_18496/.env doesn't exist - if you're not configuring your environment separately, create one.\n",
      "  warnings.warn(\n"
     ]
    }
   ],
   "source": [
    "import sqlite3\n",
    "import json\n",
    "from pathlib import Path\n",
    "import numpy as np\n",
    "from sklearn.metrics.pairwise import cosine_similarity\n",
    "import environ\n",
    "from openai import OpenAI\n",
    "import time\n",
    "\n",
    "from utils.embeddings import get_embedding\n",
    "\n",
    "\n",
    "# Import OpenAI key\n",
    "env = environ.Env()\n",
    "environ.Env.read_env()\n",
    "API_KEY = env(\"OPENAI_API_KEY\")\n",
    "\n",
    "# OpenAI Client\n",
    "client_openai = OpenAI(api_key=API_KEY)\n",
    "\n",
    "# Embedding model\n",
    "EMB_MODEL = \"text-embedding-3-small\""
   ]
  },
  {
   "cell_type": "markdown",
   "metadata": {},
   "source": [
    "## Retrieving Embeddings"
   ]
  },
  {
   "cell_type": "code",
   "execution_count": 2,
   "metadata": {},
   "outputs": [],
   "source": [
    "def load_examples(path: Path) -> list[dict]:\n",
    "    # Fetch embedding from sql database\n",
    "    conn = sqlite3.connect(path)\n",
    "    cursor = conn.cursor()\n",
    "    cursor.execute('SELECT id, dysfunctional, embedding, functional FROM examples')\n",
    "    rows = cursor.fetchall()\n",
    "    conn.close()\n",
    "\n",
    "    # Move embedding and text into a list\n",
    "    examples = []\n",
    "    for row in rows:\n",
    "        examples.append({\n",
    "            'id': row[0],\n",
    "            'dysfunctional': row[1],\n",
    "            'embedding': np.array(json.loads(row[2])),\n",
    "            'functional': row[3]\n",
    "        })\n",
    "\n",
    "    return examples"
   ]
  },
  {
   "cell_type": "code",
   "execution_count": 3,
   "metadata": {},
   "outputs": [],
   "source": [
    "path_emb_db = Path(\"data_synthetic\", \"embeddings.db\")\n",
    "examples = load_examples(path_emb_db)"
   ]
  },
  {
   "cell_type": "code",
   "execution_count": 4,
   "metadata": {},
   "outputs": [
    {
     "data": {
      "text/plain": [
       "[{'id': 1,\n",
       "  'dysfunctional': \"You always waste money on useless things, no wonder we're drowning in debt.\",\n",
       "  'embedding': array([ 0.03117449,  0.03328631, -0.00667486, ..., -0.01784991,\n",
       "          0.00138667,  0.00722167]),\n",
       "  'functional': \"It seems like we spend money on things we don't really need, which is why we're struggling with debt.\"},\n",
       " {'id': 2,\n",
       "  'dysfunctional': \"I can't believe I have to remind you again to pay child support, you're such a deadbeat.\",\n",
       "  'embedding': array([ 0.05065854,  0.01244088, -0.04797346, ...,  0.00821188,\n",
       "          0.03788203,  0.01860538]),\n",
       "  'functional': \"Hey, could you please remember to make the child support payment? It's really important for our child's well-being. Thank you.\"},\n",
       " {'id': 3,\n",
       "  'dysfunctional': \"You're so irresponsible with money, no wonder our relationship failed.\",\n",
       "  'embedding': array([ 0.03806674,  0.01793936, -0.02905588, ..., -0.01352804,\n",
       "          0.01850401,  0.02804422]),\n",
       "  'functional': \"I noticed that we had different approaches to managing finances, which caused some challenges in our relationship. Let's work together to find a better way to handle money in the future.\"}]"
      ]
     },
     "execution_count": 4,
     "metadata": {},
     "output_type": "execute_result"
    }
   ],
   "source": [
    "examples[:3]"
   ]
  },
  {
   "cell_type": "code",
   "execution_count": 5,
   "metadata": {},
   "outputs": [
    {
     "name": "stdout",
     "output_type": "stream",
     "text": [
      "Number of vector embeddings: 240\n",
      "Length of vector: 1536\n"
     ]
    }
   ],
   "source": [
    "print(f\"Number of vector embeddings: {len(examples)}\")\n",
    "print(f'Length of vector: {len(examples[0][\"embedding\"])}')"
   ]
  },
  {
   "cell_type": "code",
   "execution_count": 6,
   "metadata": {},
   "outputs": [
    {
     "name": "stdout",
     "output_type": "stream",
     "text": [
      "Dysfunctional text:\n",
      "    You always waste money on useless things, no wonder we're drowning in debt.\n",
      "Functional text:\n",
      "    It seems like we spend money on things we don't really need, which is why we're struggling with debt.\n"
     ]
    }
   ],
   "source": [
    "print(f'Dysfunctional text:\\n    {examples[0][\"dysfunctional\"]}')\n",
    "print(f'Functional text:\\n    {examples[0][\"functional\"]}')"
   ]
  },
  {
   "cell_type": "markdown",
   "metadata": {},
   "source": [
    "## Cosine similarity\n",
    "\n",
    "The **cosine similarity** between two vectors A and B is calculated as:\n",
    "\n",
    "$$\n",
    "\\text{cosine\\_similarity}(A,B) = \\frac{A \\cdot B}{\\lVert A \\rVert \\lVert B \\rVert}\n",
    "$$\n",
    "\n",
    "Where:\n",
    "\n",
    "- $A \\cdot B$ is the dot product of vectors $A$ and $B$.\n",
    "- $\\lVert A \\rVert$ and $\\lVert B \\rVert$ are the Euclidean norms of vectors $A$ and $B$."
   ]
  },
  {
   "cell_type": "code",
   "execution_count": 7,
   "metadata": {},
   "outputs": [],
   "source": [
    "def cos_similarity(vec1: np.ndarray, vec2: np.ndarray) -> np.float64:\n",
    "    \"\"\"Compute the cosine similarity between two vectors.\"\"\"\n",
    "    dot_product = np.dot(vec1, vec2)\n",
    "    norm_vec1 = np.linalg.norm(vec1)\n",
    "    norm_vec2 = np.linalg.norm(vec2)\n",
    "    return dot_product / (norm_vec1 * norm_vec2)"
   ]
  },
  {
   "cell_type": "markdown",
   "metadata": {},
   "source": [
    "Let's compare the performance of my function with sk-learn's implementation"
   ]
  },
  {
   "cell_type": "code",
   "execution_count": 8,
   "metadata": {},
   "outputs": [
    {
     "name": "stdout",
     "output_type": "stream",
     "text": [
      "Custom function time:       0.004261 seconds\n",
      "scikit-learn function time: 0.136204 seconds\n",
      "Similarity (custom):       0.7690145199068084\n",
      "Similarity (scikit-learn): 0.7690145199068091\n"
     ]
    }
   ],
   "source": [
    "# Generate random vectors for testing\n",
    "vec1 = np.random.rand(1000)\n",
    "vec2 = np.random.rand(1000)\n",
    "\n",
    "# Benchmark custom function\n",
    "start_time = time.time()\n",
    "for _ in range(1000):\n",
    "    custom_similarity = cos_similarity(vec1, vec2)\n",
    "custom_time = time.time() - start_time\n",
    "\n",
    "# Benchmark scikit-learn function\n",
    "start_time = time.time()\n",
    "for _ in range(1000):\n",
    "    sklearn_similarity = cosine_similarity([vec1], [vec2])[0, 0]\n",
    "sklearn_time = time.time() - start_time\n",
    "\n",
    "print(f\"Custom function time:       {custom_time:.6f} seconds\")\n",
    "print(f\"scikit-learn function time: {sklearn_time:.6f} seconds\")\n",
    "\n",
    "# Print the results\n",
    "print(f\"Similarity (custom):       {custom_similarity}\")\n",
    "print(f\"Similarity (scikit-learn): {sklearn_similarity}\")"
   ]
  },
  {
   "cell_type": "code",
   "execution_count": 9,
   "metadata": {},
   "outputs": [
    {
     "name": "stdout",
     "output_type": "stream",
     "text": [
      "1 vs. 2 = 0.17418072259387657\n",
      "1 vs. 3 = 0.13943348946249465\n",
      "2 vs. 3 = 0.8166097013203255\n"
     ]
    }
   ],
   "source": [
    "input_text_1 = \"These are not the droids you are looking for\"\n",
    "input_text_2 = \"This is an example to test the function\"\n",
    "input_text_3 = \"This sentence is used as example to test the function\"\n",
    "input_embedding_1 = get_embedding(text=input_text_1, model=EMB_MODEL, client=client_openai)\n",
    "input_embedding_2 = get_embedding(text=input_text_2, model=EMB_MODEL, client=client_openai)\n",
    "input_embedding_3 = get_embedding(text=input_text_3, model=EMB_MODEL, client=client_openai)\n",
    "\n",
    "print(f\"1 vs. 2 = {cos_similarity(input_embedding_1, input_embedding_2)}\")\n",
    "print(f\"1 vs. 3 = {cos_similarity(input_embedding_1, input_embedding_3)}\")\n",
    "print(f\"2 vs. 3 = {cos_similarity(input_embedding_2, input_embedding_3)}\")"
   ]
  },
  {
   "cell_type": "markdown",
   "metadata": {},
   "source": [
    "## Select closest examples"
   ]
  },
  {
   "cell_type": "code",
   "execution_count": 10,
   "metadata": {},
   "outputs": [],
   "source": [
    "def find_closest(input_embedding:list, examples:list, top_n:int=5) -> list:\n",
    "\n",
    "    example_embeddings = [example['embedding'] for example in examples]\n",
    "    similarities = cosine_similarity([input_embedding], example_embeddings)[0]\n",
    "    similar_indices = similarities.argsort()[-top_n:][::-1]\n",
    "\n",
    "    selected_dysfunctional_examples, selected_functional_examples = zip(*[(examples[i][\"dysfunctional\"], examples[i][\"functional\"]) for i in similar_indices])\n",
    "\n",
    "    selected_similarities = [similarities[i] for i in similar_indices]\n",
    "\n",
    "    return selected_dysfunctional_examples, selected_functional_examples, selected_similarities\n"
   ]
  },
  {
   "cell_type": "code",
   "execution_count": 11,
   "metadata": {},
   "outputs": [],
   "source": [
    "input_text_1 = \"You always waste money on useless things, no wonder we're drowning in debt.\"\n",
    "input_embedding_1 = get_embedding(text=input_text_1, model=EMB_MODEL, client=client_openai)"
   ]
  },
  {
   "cell_type": "code",
   "execution_count": 12,
   "metadata": {},
   "outputs": [],
   "source": [
    "a1, a2, a3 = find_closest(input_embedding_1, examples, 5)"
   ]
  },
  {
   "cell_type": "code",
   "execution_count": 13,
   "metadata": {},
   "outputs": [
    {
     "data": {
      "text/plain": [
       "(\"You always waste money on useless things, no wonder we're drowning in debt.\",\n",
       " \"Why can't you ever be responsible with our money? You're always spending on nonsense and leaving me to clean up your mess!\",\n",
       " \"You're so irresponsible with money, no wonder our relationship failed.\",\n",
       " \"If you don't want to argue about money, maybe you should stop buying those expensive gadgets and start taking care of the bills. I can't keep bailing you out every month.\",\n",
       " \"You're such a lazy bum. You can't even complete your homework on time. Stop wasting my money.\")"
      ]
     },
     "execution_count": 13,
     "metadata": {},
     "output_type": "execute_result"
    }
   ],
   "source": [
    "a1"
   ]
  },
  {
   "cell_type": "code",
   "execution_count": 14,
   "metadata": {},
   "outputs": [
    {
     "data": {
      "text/plain": [
       "(\"It seems like we spend money on things we don't really need, which is why we're struggling with debt.\",\n",
       " \"How about we sit down and create a budget together? I feel like we could work on managing our finances more effectively if we both have a say in how we spend our money. Let's find a way to tackle this as a team and avoid any unnecessary stress.\",\n",
       " \"I noticed that we had different approaches to managing finances, which caused some challenges in our relationship. Let's work together to find a better way to handle money in the future.\",\n",
       " \"Hey, how about we sit down and have a chat about our finances? It might help if we cut back on buying pricey gadgets and focus on managing our bills together. I feel overwhelmed constantly having to cover for us financially. Let's work on this together.\",\n",
       " \"I've noticed that you've been struggling to finish your homework on time. It's important to me that we use our resources wisely, so let's work together to find a solution that helps you stay on track.\")"
      ]
     },
     "execution_count": 14,
     "metadata": {},
     "output_type": "execute_result"
    }
   ],
   "source": [
    "a2"
   ]
  },
  {
   "cell_type": "code",
   "execution_count": 15,
   "metadata": {},
   "outputs": [
    {
     "data": {
      "text/plain": [
       "[np.float64(0.9999999999999996),\n",
       " np.float64(0.5864792914286562),\n",
       " np.float64(0.5382555292872772),\n",
       " np.float64(0.49326072504198704),\n",
       " np.float64(0.46248037173693135)]"
      ]
     },
     "execution_count": 15,
     "metadata": {},
     "output_type": "execute_result"
    }
   ],
   "source": [
    "a3"
   ]
  },
  {
   "cell_type": "code",
   "execution_count": 16,
   "metadata": {},
   "outputs": [],
   "source": [
    "def select_examples(input_text:str, path_emb:Path , emb_model:str, client, num_examples:int=5) -> tuple[list, list]:\n",
    "    \"\"\"\n",
    "    Select the most relevant few-shot examples based on cosine similarity.\n",
    "\n",
    "    Args:\n",
    "        data: Dataset with all the text to use to generated the vector embedding.\n",
    "        path_emb: Path to the .db file with the examples and their embeddings.\n",
    "        emb_model: Name of the model for the embeddings.\n",
    "        client: A client for the OpenAI API.\n",
    "        num_examples: number examples to select\n",
    "\n",
    "\n",
    "    Returns:\n",
    "        dys_text: A list with the dysfuntional examples.\n",
    "        fun_text: A list with the funtional examples.\n",
    "    \"\"\"\n",
    "\n",
    "    # Embed the user text\n",
    "    input_embedding = get_embedding(\n",
    "        text=input_text,\n",
    "        model=emb_model,\n",
    "        client=client)\n",
    "    \n",
    "    # Load the examples\n",
    "    examples = load_examples(path_emb)\n",
    "\n",
    "    # Find the semantically closest example to the input text\n",
    "    dysfunctional_examples, functional_examples, _ = find_closest(input_embedding, examples, num_examples)\n",
    "   \n",
    "    return dysfunctional_examples, functional_examples"
   ]
  },
  {
   "cell_type": "code",
   "execution_count": 17,
   "metadata": {},
   "outputs": [],
   "source": [
    "input_text_2 = \"You always waste money on things we don't need, no wonder we're drowning in debt.\"\n",
    "path_emb_db = Path(\"data_synthetic\", \"embeddings.db\")\n",
    "\n",
    "dysfunctional_text, functional_text = select_examples(\n",
    "    input_text=input_text_2,\n",
    "    path_emb=path_emb_db,\n",
    "    emb_model=EMB_MODEL,\n",
    "    client=client_openai,\n",
    "    num_examples=5)\n"
   ]
  },
  {
   "cell_type": "code",
   "execution_count": 18,
   "metadata": {},
   "outputs": [
    {
     "data": {
      "text/plain": [
       "(\"You always waste money on useless things, no wonder we're drowning in debt.\",\n",
       " \"Why can't you ever be responsible with our money? You're always spending on nonsense and leaving me to clean up your mess!\",\n",
       " \"You're so irresponsible with money, no wonder our relationship failed.\",\n",
       " \"If you don't want to argue about money, maybe you should stop buying those expensive gadgets and start taking care of the bills. I can't keep bailing you out every month.\",\n",
       " \"You're such a deadbeat when it comes to finances! Can't even handle your own money, let alone support our family. Maybe if you had a real job, we wouldn't be in this mess.\")"
      ]
     },
     "execution_count": 18,
     "metadata": {},
     "output_type": "execute_result"
    }
   ],
   "source": [
    "dysfunctional_text"
   ]
  },
  {
   "cell_type": "code",
   "execution_count": 19,
   "metadata": {},
   "outputs": [
    {
     "data": {
      "text/plain": [
       "(\"It seems like we spend money on things we don't really need, which is why we're struggling with debt.\",\n",
       " \"How about we sit down and create a budget together? I feel like we could work on managing our finances more effectively if we both have a say in how we spend our money. Let's find a way to tackle this as a team and avoid any unnecessary stress.\",\n",
       " \"I noticed that we had different approaches to managing finances, which caused some challenges in our relationship. Let's work together to find a better way to handle money in the future.\",\n",
       " \"Hey, how about we sit down and have a chat about our finances? It might help if we cut back on buying pricey gadgets and focus on managing our bills together. I feel overwhelmed constantly having to cover for us financially. Let's work on this together.\",\n",
       " \"I've noticed that we've been struggling with managing our finances. It would be really helpful if we could work together to find a solution that works for both of us. Maybe we can sit down and create a budget or explore ways to increase our income. I believe that by working together, we can overcome this challenge and create a more stable financial situation for our family.\")"
      ]
     },
     "execution_count": 19,
     "metadata": {},
     "output_type": "execute_result"
    }
   ],
   "source": [
    "functional_text"
   ]
  }
 ],
 "metadata": {
  "kernelspec": {
   "display_name": ".venv_dailogy_sin_data",
   "language": "python",
   "name": "python3"
  },
  "language_info": {
   "codemirror_mode": {
    "name": "ipython",
    "version": 3
   },
   "file_extension": ".py",
   "mimetype": "text/x-python",
   "name": "python",
   "nbconvert_exporter": "python",
   "pygments_lexer": "ipython3",
   "version": "3.10.12"
  }
 },
 "nbformat": 4,
 "nbformat_minor": 2
}
