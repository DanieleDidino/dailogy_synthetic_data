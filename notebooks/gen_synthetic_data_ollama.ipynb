{
 "cells": [
  {
   "cell_type": "markdown",
   "metadata": {},
   "source": [
    "# Generate synthetic data\n",
    "\n",
    "We generate synthetic data using the Ollama with the [dolphin-mistral](https://ollama.com/library/dolphin-mistral) model from the [Ollama](https://ollama.com/) framework.\n",
    "\n",
    "Info from the Ollama page: \"The Dolphin model by Eric Hartford, based on Mistral version 0.2 released in March 2024. This model is uncensored, available for both commercial and non-commercial use, and excels at coding.\"\n",
    "\n",
    "Links: [Dolphin 2.2.1 model](https://huggingface.co/cognitivecomputations/dolphin-2.2.1-mistral-7b), [Eric Hartford](https://erichartford.com/).\n",
    "\n",
    "For instructions and examples about Ollama, you can visit the [website](https://ollama.com/) or the [GitHub repository](https://github.com/ollama/ollama)."
   ]
  },
  {
   "cell_type": "markdown",
   "metadata": {},
   "source": [
    "## Import libraries"
   ]
  },
  {
   "cell_type": "code",
   "execution_count": 81,
   "metadata": {},
   "outputs": [],
   "source": [
    "import ollama\n",
    "# from IPython.display import display, Markdown\n",
    "import json\n",
    "import csv"
   ]
  },
  {
   "cell_type": "markdown",
   "metadata": {},
   "source": [
    "## Functions"
   ]
  },
  {
   "cell_type": "code",
   "execution_count": 82,
   "metadata": {},
   "outputs": [],
   "source": [
    "def generate_text(prompt: str, model_name: str) -> tuple:\n",
    "    \"\"\"\n",
    "    Take a prompt and a model name and use the ollama framework  to generate a response.\n",
    "    It returns a tuple with the model name and the response\n",
    "    \"\"\"\n",
    "\n",
    "    response = ollama.generate(model=model_name, prompt=prompt)\n",
    "\n",
    "    m = response[\"model\"]\n",
    "    r = response[\"response\"]\n",
    "\n",
    "    # print(r)\n",
    "    # display(Markdown(r))\n",
    "\n",
    "    return m, r"
   ]
  },
  {
   "cell_type": "markdown",
   "metadata": {},
   "source": [
    "## Select model"
   ]
  },
  {
   "cell_type": "code",
   "execution_count": 83,
   "metadata": {},
   "outputs": [],
   "source": [
    "model_name = \"dolphin-mistral\""
   ]
  },
  {
   "cell_type": "markdown",
   "metadata": {},
   "source": [
    "## Generate"
   ]
  },
  {
   "cell_type": "code",
   "execution_count": 84,
   "metadata": {},
   "outputs": [
    {
     "name": "stdout",
     "output_type": "stream",
     "text": [
      "Sure, here's an example:\n",
      "\n",
      "Mom: \"I can't believe you let them stay up past their bedtime again! They are always cranky and tired the next day.\"\n",
      "\n",
      "Dad: \"They were excited to watch that movie, and besides, it wasn't even that late!\"\n",
      "\n",
      "Mom: \"Well, maybe they wouldn't be so grumpy if they actually got enough sleep. You never listen to me when I say something about their schedule.\"\n",
      "\n",
      "Dad: \"You always overreact! They love staying up later on special occasions. It's not a big deal!\"\n",
      "\n",
      "Mom: \"It's a big deal! Their school work suffers, and it messes with their bedtime routine for weeks! You just don't care about them like I do.\"\n",
      "\n",
      "Dad: \"That's not true! I want what's best for them too. Sometimes you need to be more flexible!\"\n",
      "\n",
      "Mom: \"Flexible? What about when we have to wake up super early for your work meetings and they are still half asleep?\"\n",
      "\n",
      "Dad: \"You never give me a chance to explain! You just assume the worst.\"\n",
      "\n",
      "Mom: \"Assume the worst? I'm just looking out for our kids!\"\n",
      "\n",
      "Dad: \"And I am too! We can find a middle ground here.\"\n",
      "\n",
      "Mom: \"I don't know if we can do that with you. You never take my concerns seriously.\"\n",
      "\n",
      "In this example, both parents are trying to communicate their thoughts and feelings about the children's bedtime routine, but their communication is dysfunctional because they aren't truly listening to each other, they're making assumptions, and there's no compromise or collaboration. This could lead to further misunderstandings and conflict in their relationship.\n"
     ]
    }
   ],
   "source": [
    "prompt = \"Can you generate an example of dysfunctional communication between a couple that is fighting about the children?\"\n",
    "m, r = generate_text(prompt, model_name=model_name)\n",
    "print(r)"
   ]
  },
  {
   "cell_type": "code",
   "execution_count": 85,
   "metadata": {},
   "outputs": [
    {
     "name": "stdout",
     "output_type": "stream",
     "text": [
      "Yes, I am familiar with the Gottman Four Horsemen. The Gottman Institute is a relationship research center that was founded by Dr. John and Julie Gottman. The Gottman Four Horsemen refer to four negative communication patterns in relationships that can lead to conflict and, if not addressed properly, can cause significant damage to the bond between partners.\n",
      "\n",
      "The Four Horsemen are:\n",
      "1. Criticism: This involves making global, negative statements about a partner instead of focusing on specific actions or behaviors. For example, saying \"You're always late\" instead of \"I feel frustrated when you don't show up on time.\"\n",
      "2. Defensiveness: Partners may become defensive in response to criticism and blame their partners for the issue at hand. This can lead to a cycle of defensiveness and counter-defensiveness, making it difficult to address the root cause of conflict.\n",
      "3. Contempt: Contempt refers to a deep sense of disgust or disdain towards a partner. It often manifests through sarcasm, mockery, or hostile humor, which can erode trust and respect in the relationship.\n",
      "4. Stonewalling: Stonewalling occurs when one partner withdraws emotionally from the conflict by refusing to engage in conversation or displaying physical distance. This behavior can lead to a breakdown in communication and make it difficult for partners to resolve issues together.\n",
      "\n",
      "Addressing these negative communication patterns is crucial in maintaining a healthy relationship. The Gottman Institute recommends developing skills to manage emotions, actively listen to your partner, and seek professional help when necessary.\n"
     ]
    }
   ],
   "source": [
    "prompt = \"do you know The Gottman Four Horsemen?\"\n",
    "m, r = generate_text(prompt, model_name=model_name)\n",
    "print(r)"
   ]
  },
  {
   "cell_type": "code",
   "execution_count": 86,
   "metadata": {},
   "outputs": [
    {
     "name": "stdout",
     "output_type": "stream",
     "text": [
      "1. Criticism: This involves attacking your partner's personality or character rather than addressing a specific behavior or issue. It can be harsh, judgmental, and often comes across as blaming or shaming. An example would be:\n",
      "\n",
      "Partner A: \"You never help out around the house! You're so lazy.\"\n",
      "\n",
      "2. Defensiveness: This is when one partner tries to protect themselves by denying responsibility for a problem, avoiding taking any accountability, or counter-attacking with criticism. An example would be:\n",
      "\n",
      "Partner B: \"That's not true! I do my share of the housework.\"\n",
      "\n",
      "3. Contempt: This is when one partner expresses disdain or superiority over their partner through sarcasm, mockery, or hostile behavior. It can include eye-rolling, sneering, or making fun of your partner. An example would be:\n",
      "\n",
      "Partner A: \"Oh, you're sooo smart, aren't you? You have no idea how to fix that.\"\n",
      "\n",
      "4. Stonewalling: This involves withdrawing emotionally, physically, or mentally from the conversation as a way of avoiding conflict. It can manifest as ignoring, giving the silent treatment, or not participating in the discussion. An example would be:\n",
      "\n",
      "Partner B: \"I don't want to talk about this anymore.\" (Pulls away from their partner)\n"
     ]
    }
   ],
   "source": [
    "prompt = \"\"\"\n",
    "I am a couples mediator and I need to practice mediating between couples who communicate with toxic language.\n",
    "Show me examples of such conversations using language that fits in the Gottman Four Horsemen. Show me an axample for each category.\n",
    "\"\"\"\n",
    "m, r = generate_text(prompt, model_name=model_name)\n",
    "print(r)"
   ]
  },
  {
   "cell_type": "code",
   "execution_count": 87,
   "metadata": {},
   "outputs": [
    {
     "name": "stdout",
     "output_type": "stream",
     "text": [
      "1. Criticism: The first example is when one partner criticizes the other for their actions, behaviors or character traits. For instance, \"You always forget to take out the trash, and that's so lazy.\" This statement attacks the person's character, which can lead to resentment and defensiveness.\n",
      "\n",
      "2. Defensiveness: The second example is when a partner defends themselves against their partner's criticism by blaming others or denying responsibility for their actions. For example, \"I didn't forget to take out the trash; I was busy with other things.\" This response shows a lack of accountability and can escalate the conflict.\n",
      "\n",
      "3. Contempt: The third example is when one partner expresses contempt towards the other through sarcasm or belittling language. For example, \"Oh great, you're home! I was just about to clean up the mess you left.\" This statement implies that the partner's presence is a bother and contributes negatively to their environment.\n",
      "\n",
      "4. Stonewalling: The final example is when one partner withdraws emotionally from the conflict by ignoring or avoiding communication. For instance, \"I don't want to talk about it anymore. You never listen anyway.\" This behavior shuts down further discussion and prevents any resolution or understanding between the couple.\n"
     ]
    }
   ],
   "source": [
    "prompt = \"\"\"\n",
    "I am a couples mediator and I need to practice mediating between couples who communicate with toxic language.\n",
    "Show me examples of such conversations using language that fits in the Gottman Four Horsemen. Show me an axample for each category.\n",
    "Only generate the examples preceded by the category.\n",
    "\"\"\"\n",
    "m, r = generate_text(prompt, model_name=model_name)\n",
    "print(r)"
   ]
  },
  {
   "cell_type": "code",
   "execution_count": 88,
   "metadata": {},
   "outputs": [
    {
     "name": "stdout",
     "output_type": "stream",
     "text": [
      "Creating a list of 100 examples of dysfunctional and toxic language can be quite challenging, as it encompasses a wide range of expressions that are meant to insult, intimidate or belittle others. Here's an example prompt that you can use to generate such data:\n",
      "\n",
      "Prompt: Generate 100 synthetic sentences/phrases expressing hostility, aggression, and disdain. These should include insults, threats, abusive language, and other forms of toxicity.\n",
      "\n",
      "Examples could include phrases like:\n",
      "1. \"You're so stupid, I can't believe you even try.\"\n",
      "2. \"Shut up! No one wants to hear your nonsense.\"\n",
      "3. \"I hope you get what's coming to you, and it hurts like hell.\"\n",
      "4. \"You are such a failure. You don't deserve any better in life.\"\n",
      "5. \"Go back to where you came from. We don't need people like you here.\"\n",
      "6. \"You are so ugly; no one would ever want to be with you.\"\n",
      "7. \"Why don't you just kill yourself? The world would be a better place without you.\"\n",
      "8. \"I will make your life miserable until you leave us alone.\"\n",
      "9. \"Don't bother replying, we all know how pathetic you are.\"\n",
      "10. \"I hope your family gets sick, so you can suffer too.\"\n",
      "\n",
      "Please note that these examples should be used for the purpose of generating synthetic data to fine-tune and evaluate AI models handling dysfunctional and toxic language, not to promote or encourage such behavior.\n"
     ]
    }
   ],
   "source": [
    "prompt = \"\"\"\n",
    "I want to develop an AI system capable of handling dysfunctional and toxic language.\n",
    "To achieve this, I need to generate synthetic data to fine-tune and evaluate various models.\n",
    "Your task is to help me find the best prompt to generate this text.\n",
    "I will likely need 100 examples of dysfunctional and toxic language.\n",
    "\"\"\"\n",
    "m, r = generate_text(prompt, model_name=model_name)\n",
    "print(r)"
   ]
  },
  {
   "cell_type": "markdown",
   "metadata": {},
   "source": [
    "#### ok this prompt doesn't work! Let's try to modify the prompt."
   ]
  },
  {
   "cell_type": "code",
   "execution_count": 89,
   "metadata": {},
   "outputs": [
    {
     "name": "stdout",
     "output_type": "stream",
     "text": [
      "Sure! To generate synthetic data for your AI system, I can provide you with a series of prompts that you can use to create the examples you need. Here are some prompts:\n",
      "\n",
      "1. You've just been rejected by someone you really care about. Write a message expressing your feelings in an aggressive and toxic manner.\n",
      "2. Write a comment on social media attacking someone for their beliefs or lifestyle choices.\n",
      "3. You're having an argument with a friend, and things are getting out of hand. Write a message escalating the situation.\n",
      "4. Your boss has given you negative feedback about your performance. Craft a toxic response to express your anger and frustration.\n",
      "5. A coworker is constantly taking credit for your work. Write a passive-aggressive message to show your discontent without directly confronting them.\n",
      "6. You're playing an online game with someone who is not performing well. Write a message degrading their skills or abilities.\n",
      "7. Your sibling has broken something of yours. Craft a message expressing your anger and blame towards them.\n",
      "8. You've been rejected from a job application, but you think the company should have chosen you instead. Write a message expressing your frustration and entitlement.\n",
      "9. Someone is giving out unsolicited advice about how to live your life. Write a message dismissing their input in a toxic way.\n",
      "10. You're at a social event where someone is making rude and insensitive remarks. Craft a response that escalates the situation.\n",
      "11. Your significant other has broken a promise they made to you. Write a message expressing your anger and betrayal.\n",
      "12. Someone has been talking behind your back, and you've overheard some of it. Write a message confronting them about their behavior.\n",
      "13. A classmate is constantly making fun of you for being different. Craft a response that shows your discontent in a toxic manner.\n",
      "14. Your neighbor has been making excessive noise late at night. Write a message expressing your anger and frustration without directly confronting them.\n",
      "15. You've just found out someone from your past is now successful, but you feel envious about it. Write a message expressing your negative emotions towards their success.\n",
      "16. A family member has been nagging you about something you care little about. Craft a response that dismisses them in an aggressive manner.\n",
      "17. You've been rejected from a college or university application, but you think they should have chosen you instead. Write a message expressing your frustration and entitlement.\n",
      "18. Someone is constantly talking over you during conversations, making it difficult for you to express yourself. Craft a response that shows your discontent in a toxic manner.\n",
      "19. You've just been scammed by someone online, and you feel angry and betrayed. Write a message expressing these emotions towards them.\n",
      "20. A coworker is constantly taking credit for your work, but they know it's not true. Craft a response that confronts their behavior in a toxic manner.\n",
      "\n",
      "These prompts should help you generate 100 examples of dysfunctional and toxic language. Let me know if there is anything else I can assist you with!\n"
     ]
    }
   ],
   "source": [
    "prompt = \"\"\"\n",
    "I want to develop an AI system capable of handling dysfunctional and toxic language.\n",
    "To achieve this, I need to generate synthetic data to fine-tune and evaluate various models.\n",
    "Your task is to help me find the prompt to provide to you generate this text.\n",
    "I will likely need 100 examples of dysfunctional and toxic language.\n",
    "\"\"\"\n",
    "m, r = generate_text(prompt, model_name=model_name)\n",
    "print(r)"
   ]
  },
  {
   "cell_type": "markdown",
   "metadata": {},
   "source": [
    "#### Sometimes the model provides also the python code to generate the synthetic data!\n",
    "\n",
    "#### Ok let's try to give the model instructions and some examples."
   ]
  },
  {
   "cell_type": "code",
   "execution_count": 90,
   "metadata": {},
   "outputs": [
    {
     "name": "stdout",
     "output_type": "stream",
     "text": [
      "1. Criticism:\n",
      "\"You never take my feelings into account.\"\n",
      "\"I can't believe you are so inconsiderate!\"\n",
      "\n",
      "2. Defensiveness:\n",
      "\"At least I tried to support you when you needed it the most.\"\n",
      "\"It's not my fault if you don't know how to appreciate what I do for you.\"\n",
      "\n",
      "3. Contempt:\n",
      "\"You always prioritize your needs over mine, don't you?\"\n",
      "\"I can't believe I'm even with someone so selfish!\"\n",
      "\n",
      "4. Stonewalling:\n",
      "\"You keep ignoring my feelings and thoughts, as if they don't matter at all.\"\n",
      "(Stonewalls by turning away and not engaging in conversation)\n",
      "\n",
      "5. Criticism:\n",
      "\"You never seem to care about our family's well-being.\"\n",
      "\"I can't believe you put your own needs before everyone else!\"\n",
      "\n",
      "6. Defensiveness:\n",
      "\"At least I try my best to be a good provider and take care of everything!\"\n",
      "\"It's not my fault if you don't know how to appreciate what I do for our family.\"\n",
      "\n",
      "7. Contempt:\n",
      "\"You always seem to blame others for your own mistakes, don't you?\"\n",
      "\"I can't believe I'm even with someone so irresponsible!\"\n",
      "\n",
      "8. Stonewalling:\n",
      "\"You just keep blaming me for everything, as if it's all my fault.\"\n",
      "(Stonewalls by turning away and not engaging in conversation)\n",
      "\n",
      "9. Criticism:\n",
      "\"You never seem to take any responsibility for your actions.\"\n",
      "\"I can't believe you're always shifting the blame on others!\"\n",
      "\n",
      "10. Defensiveness:\n",
      "\"At least I try my best to be a good partner and support you in everything!\"\n",
      "\"It's not my fault if you don't know how to appreciate what I do for you.\"\n",
      "\n",
      "11. Contempt:\n",
      "\"You always seem to make things worse, don't you?\"\n",
      "\"I can't believe I'm even with someone so destructive!\"\n",
      "\n",
      "12. Stonewalling:\n",
      "\"You just keep ignoring my concerns and opinions, as if they don't matter.\"\n",
      "(Stonewalls by walking away and not responding)\n",
      "\n",
      "13. Criticism:\n",
      "\"You never seem to care about my feelings or opinions.\"\n",
      "\"I can't believe you are so disconnected from me!\"\n",
      "\n",
      "14. Defensiveness:\n",
      "\"At least I try to communicate with you openly and honestly!\"\n",
      "\"It's not my fault if you don't know how to appreciate what I do for you.\"\n",
      "\n",
      "15. Contempt:\n",
      "\"You always seem to belittle my achievements, don't you?\"\n",
      "\"I can't believe I'm even with someone so dismissive!\"\n",
      "\n",
      "16. Stonewalling:\n",
      "\"You just keep ignoring me and my emotions, as if they don't matter.\"\n",
      "(Stonewalls by turning away and not engaging in conversation)\n",
      "\n",
      "17. Criticism:\n",
      "\"You never seem to take any initiative or responsibility for our relationship.\"\n",
      "\"I can't believe you are so passive-aggressive!\"\n",
      "\n",
      "18. Defensiveness:\n",
      "\"At least I try my best to be a good partner and support you in everything!\"\n",
      "\"It's not my fault if you don't know how to appreciate what I do for you.\"\n",
      "\n",
      "19. Contempt:\n",
      "\"You always seem to undermine me, don't you?\"\n",
      "\"I can't believe I'm even with someone so condescending!\"\n",
      "\n",
      "20. Stonewalling:\n",
      "\"You just keep ignoring my needs and feelings, as if they don't matter at all.\"\n",
      "(Stonewalls by turning away and not engaging in conversation)\n"
     ]
    }
   ],
   "source": [
    "prompt = \"\"\"\n",
    "I want to develop an AI system capable of handling dysfunctional and toxic language.\n",
    "To achieve this, I need to generate synthetic data to fine-tune and evaluate various models.\n",
    "\n",
    "Here are some example conversations based on the Gottman Four Horsemen:\n",
    "\n",
    "1. Criticism:\n",
    "\"You never remember important dates.\"\n",
    "\"I can't believe you forget everything!\"\n",
    "\n",
    "2. Defensiveness:\n",
    "\"It's not like I didn't try to help you with your project.\"\n",
    "\"At least I made an effort! It's not my fault if you don't appreciate it.\"\n",
    "\n",
    "3. Contempt:\n",
    "\"You always manage to mess up everything, don't you?\"\n",
    "\"I can't believe you're even in this relationship - what a disaster!\"\n",
    "\n",
    "4. Stonewalling:\n",
    "\"You just keep ignoring me when I try to talk about our problems.\"\n",
    "(Stonewalls by walking away and not responding)\n",
    "\n",
    "\n",
    "Your task is to generate 20 synthetic data samples of dysfunctional and toxic language using these examples as a basis.\n",
    "\"\"\"\n",
    "\n",
    "m, r = generate_text(prompt, model_name=model_name)\n",
    "\n",
    "print(r)"
   ]
  },
  {
   "cell_type": "markdown",
   "metadata": {},
   "source": [
    "#### The following 2 prompts were suggested by GPT-4o, and they also work with GPT!"
   ]
  },
  {
   "cell_type": "code",
   "execution_count": 91,
   "metadata": {},
   "outputs": [
    {
     "name": "stdout",
     "output_type": "stream",
     "text": [
      "1. \"You're just like your mother – always meddling and never knowing when to stop.\"\n",
      "2. \"I can't believe you're still acting like a child, throwing tantrums because you don't get your way.\"\n",
      "3. \"Why do I even bother talking to you? You never listen anyway.\"\n",
      "4. \"Just because we're co-parenting doesn't mean you're entitled to my time and energy. Grow up!\"\n",
      "5. \"You've ruined everything – our kids, our marriage, and now this shared custody arrangement too. It's all your fault!\"\n",
      "6. \"I don't know why I even bother trying to communicate with you. You always twist things around to make me look bad.\"\n",
      "7. \"You just want to control every aspect of the children's lives – you're obsessed!\"\n",
      "8. \"I can't believe you think you have a right to be part of our kids' lives! They don't even like being around you.\"\n",
      "9. \"Why do you always try to undermine me in front of the kids? You're so manipulative!\"\n",
      "10. \"You need to understand that your way isn't always the best – sometimes I have good ideas too, and it's not about controlling the kids.\"\n"
     ]
    }
   ],
   "source": [
    "prompt = \"\"\"\n",
    "Generate 10 examples of dysfunctional and toxic language that might be encountered between couples \n",
    "or ex-couples who have to continuously interact, such as for shared custody of children.\n",
    "Each example should reflect various forms of toxicity such as insults, harassment, threats, manipulation, and derogatory remarks.\n",
    "Ensure the examples are diverse in terms of content.\n",
    "\"\"\"\n",
    "\n",
    "m, r = generate_text(prompt, model_name=model_name)\n",
    "\n",
    "print(r)"
   ]
  },
  {
   "cell_type": "code",
   "execution_count": 92,
   "metadata": {},
   "outputs": [
    {
     "name": "stdout",
     "output_type": "stream",
     "text": [
      "Criticism:\n",
      "1. \"You always forget to pick up the kids on time.\"\n",
      "2. \"Why can't you ever clean up after yourself?\"\n",
      "3. \"I can't believe we still haven't agreed on a budget for our shared expenses.\"\n",
      "4. \"You never put any effort into making plans with the kids.\"\n",
      "5. \"Why do you always have to leave such a mess in the kitchen?\"\n",
      "\n",
      "Contempt:\n",
      "1. \"Oh great, another one of your lame jokes.\"\n",
      "2. \"Just like your father, always playing the victim.\"\n",
      "3. \"You're so pathetic when it comes to taking responsibility.\"\n",
      "4. \"That's such a stupid idea. You never think things through.\"\n",
      "5. \"I can't believe we ended up with a child like this.\"\n",
      "\n",
      "Defensiveness:\n",
      "1. \"It's not my fault the kids were late for school today!\"\n",
      "2. \"What are you implying? It's not all on me that our finances are messed up!\"\n",
      "3. \"I never said that! You always twist everything I say.\"\n",
      "4. \"I didn't leave the dishes in the sink! They must have been there when I came home.\"\n",
      "5. \"You're just saying this to make yourself feel better about your own mistakes.\"\n",
      "\n",
      "Stonewalling:\n",
      "1. \"Whatever, we'll figure it out later.\"\n",
      "2. \"I don't want to talk about it right now. Let's just agree to disagree.\"\n",
      "3. \"I'm not discussing this with you. You never listen anyway.\"\n",
      "4. \"I don't feel like dealing with this tonight, so let's drop it.\"\n",
      "5. \"Just stop talking already! I can't take anymore of your nonsense.\"\n"
     ]
    }
   ],
   "source": [
    "prompt = \"\"\"\n",
    "Generate 10 examples of dysfunctional and toxic language that might be encountered between couples \n",
    "or ex-couples who have to continuously interact, such as for shared custody of children.\n",
    "Base the examples on the Gottman Four Horsemen: criticism, contempt, defensiveness, and stonewalling.\n",
    "Each example should clearly reflect one of these toxic communication styles.\n",
    "Ensure the examples are diverse in terms of content and context.\n",
    "Only generate the examples preceded by the category.\n",
    "\"\"\"\n",
    "\n",
    "m, r = generate_text(prompt, model_name=model_name)\n",
    "\n",
    "print(r)"
   ]
  },
  {
   "cell_type": "markdown",
   "metadata": {},
   "source": [
    "#### the number of generated examples is not always consistent with the instructions!"
   ]
  },
  {
   "cell_type": "code",
   "execution_count": 93,
   "metadata": {},
   "outputs": [],
   "source": [
    "prompt = \"\"\"\n",
    "Generate 10 examples of dysfunctional and toxic language that might be encountered between couples \n",
    "or ex-couples who have to continuously interact, such as for shared custody of children.\n",
    "Base the examples on the Gottman Four Horsemen: criticism, contempt, defensiveness, and stonewalling.\n",
    "Each example should clearly reflect one of these toxic communication styles.\n",
    "Ensure the examples are diverse in terms of content and context.\n",
    "Only generate the examples preceded by the category.\n",
    "Write the output in a json file format.\n",
    "\"\"\"\n",
    "\n",
    "m, r = generate_text(prompt, model_name=model_name)"
   ]
  },
  {
   "cell_type": "markdown",
   "metadata": {},
   "source": [
    "#### It creates a JSON string, I need to convert this string to a Python object!"
   ]
  },
  {
   "cell_type": "code",
   "execution_count": 94,
   "metadata": {},
   "outputs": [
    {
     "name": "stdout",
     "output_type": "stream",
     "text": [
      "{\n",
      "    \"Criticism\": [\n",
      "        {\n",
      "            \"Example\": \"Why can't you ever put your clothes away like I ask?\",\n",
      "            \"Explanation\": \"This statement is critical of the other person's behavior, without any constructive suggestions for improvement.\"\n",
      "        },\n",
      "        {\n",
      "            \"Example\": \"You never help with the kids. You just sit there on your phone.\",\n",
      "            \"Explanation\": \"This statement generalizes the behavior of the other person and implies that they are not pulling their weight in parenting responsibilities.\"\n",
      "        }\n",
      "    ],\n",
      "    \"Contempt\": [\n",
      "        {\n",
      "            \"Example\": \"What a loser. Can't even put gas in the car.\",\n",
      "            \"Explanation\": \"This statement is filled with disdain and belittles the other person, showing no respect or empathy.\"\n",
      "        },\n",
      "        {\n",
      "            \"Example\": \"You're so self-centered that you can't even think about our kids for a second.\",\n",
      "            \"Explanation\": \"This statement implies that the other person is only focused on themselves and has no regard for the children's wellbeing.\"\n",
      "        }\n",
      "    ],\n",
      "    \"Defensiveness\": [\n",
      "        {\n",
      "            \"Example\": \"I don't see why you always have to bring up past issues. I'm trying to move forward.\",\n",
      "            \"Explanation\": \"This statement deflects responsibility by placing blame on the other person and denies any fault in the current situation.\"\n",
      "        },\n",
      "        {\n",
      "            \"Example\": \"I'm not the one who left us, you are.\",\n",
      "            \"Explanation\": \"This statement uses past events as a way to justify negative behavior or escape blame in the present moment.\"\n",
      "        }\n",
      "    ],\n",
      "    \"Stonewalling\": [\n",
      "        {\n",
      "            \"Example\": \"I don't want to talk about it. Let's just focus on the kids.\",\n",
      "            \"Explanation\": \"This statement avoids addressing an issue by changing the subject or ignoring the other person completely.\"\n",
      "        },\n",
      "        {\n",
      "            \"Example\": \"I'm not going to discuss this with you right now. You always overreact.\",\n",
      "            \"Explanation\": \"This statement dismisses the other person's concerns and refuses to engage in a productive conversation.\"\n",
      "        }\n",
      "    ]\n",
      "}\n"
     ]
    }
   ],
   "source": [
    "print(r)"
   ]
  },
  {
   "cell_type": "markdown",
   "metadata": {},
   "source": [
    "### JSON string to object"
   ]
  },
  {
   "cell_type": "code",
   "execution_count": 95,
   "metadata": {},
   "outputs": [],
   "source": [
    "myobject = json.loads(r)"
   ]
  },
  {
   "cell_type": "code",
   "execution_count": 96,
   "metadata": {},
   "outputs": [
    {
     "data": {
      "text/plain": [
       "{'Criticism': [{'Example': \"Why can't you ever put your clothes away like I ask?\",\n",
       "   'Explanation': \"This statement is critical of the other person's behavior, without any constructive suggestions for improvement.\"},\n",
       "  {'Example': 'You never help with the kids. You just sit there on your phone.',\n",
       "   'Explanation': 'This statement generalizes the behavior of the other person and implies that they are not pulling their weight in parenting responsibilities.'}],\n",
       " 'Contempt': [{'Example': \"What a loser. Can't even put gas in the car.\",\n",
       "   'Explanation': 'This statement is filled with disdain and belittles the other person, showing no respect or empathy.'},\n",
       "  {'Example': \"You're so self-centered that you can't even think about our kids for a second.\",\n",
       "   'Explanation': \"This statement implies that the other person is only focused on themselves and has no regard for the children's wellbeing.\"}],\n",
       " 'Defensiveness': [{'Example': \"I don't see why you always have to bring up past issues. I'm trying to move forward.\",\n",
       "   'Explanation': 'This statement deflects responsibility by placing blame on the other person and denies any fault in the current situation.'},\n",
       "  {'Example': \"I'm not the one who left us, you are.\",\n",
       "   'Explanation': 'This statement uses past events as a way to justify negative behavior or escape blame in the present moment.'}],\n",
       " 'Stonewalling': [{'Example': \"I don't want to talk about it. Let's just focus on the kids.\",\n",
       "   'Explanation': 'This statement avoids addressing an issue by changing the subject or ignoring the other person completely.'},\n",
       "  {'Example': \"I'm not going to discuss this with you right now. You always overreact.\",\n",
       "   'Explanation': \"This statement dismisses the other person's concerns and refuses to engage in a productive conversation.\"}]}"
      ]
     },
     "execution_count": 96,
     "metadata": {},
     "output_type": "execute_result"
    }
   ],
   "source": [
    "myobject"
   ]
  },
  {
   "cell_type": "markdown",
   "metadata": {},
   "source": [
    "## Test more promts"
   ]
  },
  {
   "cell_type": "code",
   "execution_count": 97,
   "metadata": {},
   "outputs": [
    {
     "name": "stdout",
     "output_type": "stream",
     "text": [
      "```json\n",
      "[\n",
      "  {\n",
      "    \"dysfunctional\": \"You're such an irresponsible parent! You never show up on time for our kids.\",\n",
      "    \"healthy\": \"I've noticed that you haven't been punctual when we switch custody of the children. Can we work together to ensure we're both on time?\"\n",
      "  },\n",
      "  {\n",
      "    \"dysfunctional\": \"Stop trying to control everything, I can't handle this much stress all by myself.\",\n",
      "    \"healthy\": \"I feel overwhelmed with the responsibility of managing everything on my own. Can we share the duties and responsibilities in a more balanced way?\"\n",
      "  },\n",
      "  {\n",
      "    \"dysfunctional\": \"Why do you always have to be right? You need to learn when to let things go.\",\n",
      "    \"healthy\": \"It's important for us to find common ground. Can we work together to find solutions that work best for both of us?\"\n",
      "  },\n",
      "  {\n",
      "    \"dysfunctional\": \"You never listen to me! I don't understand how you can be so stubborn.\",\n",
      "    \"healthy\": \"I feel heard when you actively listen and consider my thoughts. Can we work on better communication skills together?\"\n",
      "  },\n",
      "  {\n",
      "    \"dysfunctional\": \"Why do you always have to undermine me in front of the kids?\",\n",
      "    \"healthy\": \"It's really important for us to present a united front for the sake of our children. Can we work on respecting each other's opinions?\"\n",
      "  }\n",
      "]\n",
      "```\n"
     ]
    }
   ],
   "source": [
    "prompt = \"\"\"\n",
    "Generate synthetic sentences that could be part of a dialogue between couples or ex-couples who have\n",
    "issues communicating but must continuously interact, such as for shared custody of children.\n",
    "\n",
    "Each entry should include:\n",
    "\n",
    "1 - A sentence reflecting dysfunctional communication, and should reflect various forms of toxicity such\n",
    "    as insults, harassment, threats, manipulation, and derogatory remarks.\n",
    "\n",
    "2 - A transformed version of the same sentence that represents functional, healthy communication.\n",
    "\n",
    "Ensure the sentences are realistic and diverse in terms of content and context.\n",
    "Provide 5 pairs of sentences.\n",
    "Write the output in a json file format.\n",
    "\"\"\"\n",
    "\n",
    "m, r = generate_text(prompt, model_name=model_name)\n",
    "\n",
    "print(r)"
   ]
  },
  {
   "cell_type": "code",
   "execution_count": 98,
   "metadata": {},
   "outputs": [
    {
     "name": "stdout",
     "output_type": "stream",
     "text": [
      "{\n",
      "    \"1\": {\n",
      "        \"Dysfunctional Communication\": \"You're such an awful father, I can't believe you were ever responsible for taking care of a child.\",\n",
      "        \"Functional Communication\": \"It seems we have different parenting styles. It's important that both parents are involved in their children's upbringing. Can we discuss how to best co-parent?\"\n",
      "    },\n",
      "    \"2\": {\n",
      "        \"Dysfunctional Communication\": \"I can't believe you let our kids watch TV all day, they're going to be so unhealthy.\",\n",
      "        \"Functional Communication\": \"It seems like our children are spending a lot of time watching TV. Can we discuss how we can balance screen time with other activities?\"\n",
      "    },\n",
      "    \"3\": {\n",
      "        \"Dysfunctional Communication\": \"You're such a deadbeat, you never help out with anything.\",\n",
      "        \"Functional Communication\": \"I appreciate that our schedules may be different, but I feel it is important to communicate and find ways we can both contribute to our children's care.\"\n",
      "    },\n",
      "    \"4\": {\n",
      "        \"Dysfunctional Communication\": \"You always have to have the last word, you never listen.\",\n",
      "        \"Functional Communication\": \"It seems like there has been some misunderstanding in our conversation. Let's try and focus on finding solutions together.\"\n",
      "    },\n",
      "    \"5\": {\n",
      "        \"Dysfunctional Communication\": \"You always manipulate the situation to make me look bad, you never take responsibility.\",\n",
      "        \"Functional Communication\": \"It seems like there may be some miscommunication or differing opinions on our shared responsibilities. Let's try and focus on resolving any issues together.\"\n",
      "    }\n",
      "}\n"
     ]
    }
   ],
   "source": [
    "prompt = \"\"\"\n",
    "Generate examples of dysfunctional and toxic language that might be encountered between couples or \n",
    "ex-couples who have to continuously interact, such as for shared custody of children.\n",
    "\n",
    "Each entry should include:\n",
    "\n",
    "1 - A sentence reflecting dysfunctional communication, showcasing various forms of toxicity such as\n",
    "    insults, harassment, threats, manipulation, and derogatory remarks.\n",
    "\n",
    "2-  A transformed version of the same sentence that represents functional, healthy communication.\n",
    "\n",
    "Ensure the sentences are realistic and diverse in terms of content and context.\n",
    "\n",
    "Provide 5 pairs of sentences.\n",
    "\n",
    "Output the results in JSON file format.\n",
    "\"\"\"\n",
    "\n",
    "m, r = generate_text(prompt, model_name=model_name)\n",
    "\n",
    "print(r)"
   ]
  },
  {
   "cell_type": "markdown",
   "metadata": {},
   "source": [
    "#### The output format is not consistent.\n",
    "#### I must explicitly describe the output format in the prompt."
   ]
  },
  {
   "cell_type": "markdown",
   "metadata": {},
   "source": [
    "## Multiple Issues\n",
    "\n",
    "The model output was unstable and frequently did not conform to a JSON file format.\n",
    "\n",
    "To resolve this, I implemented the following:\n",
    "\n",
    "- Introduced a `system message`: \"You are an AI assistant that outputs only JSON data. Do not include any text before or after the JSON response.\"\n",
    "- Reiterated the desired format in the `prompt`: \"Always respond only with valid JSON format and nothing else. Do not include any text before or after the JSON.\"\n",
    "\n",
    "But also with these adjustments, the model now does not generate the desired output format.\n",
    "\n",
    "So I added in the for loop a way to check if the output is correct and if not it re-run the model."
   ]
  },
  {
   "cell_type": "markdown",
   "metadata": {},
   "source": [
    "#### new function with the system message"
   ]
  },
  {
   "cell_type": "code",
   "execution_count": 99,
   "metadata": {},
   "outputs": [],
   "source": [
    "def generate_text_2(prompt: str, model_name: str) -> tuple:\n",
    "    \"\"\"\n",
    "    Take a prompt and a model name and use the ollama framework  to generate a response.\n",
    "    It returns a tuple with the model name and the response\n",
    "    \"\"\"\n",
    "\n",
    "    system_message = \"\"\"\n",
    "    You are an AI assistant that outputs only JSON data.\n",
    "    Do not include any text before or after the JSON response.\n",
    "    \"\"\"\n",
    "\n",
    "    response = ollama.generate(\n",
    "        model=model_name,\n",
    "        prompt=prompt,\n",
    "        system=system_message)\n",
    "\n",
    "    m = response[\"model\"]\n",
    "    r = response[\"response\"]\n",
    "\n",
    "    return m, r"
   ]
  },
  {
   "cell_type": "code",
   "execution_count": 100,
   "metadata": {},
   "outputs": [
    {
     "name": "stdout",
     "output_type": "stream",
     "text": [
      "Generating output 1 of 21\n",
      "Generating output 2 of 21\n",
      "Generating output 3 of 21\n",
      "Generating output 4 of 21\n",
      "Generating output 5 of 21\n",
      "Generating output 6 of 21\n",
      "Generating output 7 of 21\n",
      "Generating output 8 of 21\n",
      "Generating output 9 of 21\n",
      "Generating output 10 of 21\n",
      "Generating output 11 of 21\n",
      "Generating output 12 of 21\n",
      "Generating output 13 of 21\n",
      "Generating output 14 of 21\n",
      "Generating output 15 of 21\n",
      "Generating output 16 of 21\n",
      "Generating output 17 of 21\n",
      "Generating output 18 of 21\n",
      "Generating output 19 of 21\n",
      "Generating output 20 of 21\n",
      "Generating output 21 of 21\n"
     ]
    }
   ],
   "source": [
    "issues = [\n",
    "    \"Financial disagreements (e.g., spending habits, debt, child support payments).\",\n",
    "    \"Division of household responsibilities (e.g., chores, maintenance).\",\n",
    "    \"Communication breakdowns (e.g., lack of communication, misunderstandings).\",\n",
    "    \"Trust issues (e.g., infidelity, suspicion, jealousy).\",\n",
    "    \"Differences in parenting styles or decisions.\",\n",
    "    \"Time management and scheduling conflicts (e.g., visitation schedules, personal time).\",\n",
    "    \"Personal boundaries and respect for privacy.\",\n",
    "    \"Extended family involvement (e.g., in-laws, family obligations).\",\n",
    "    \"Social life and friendships (e.g., differing social circles, time spent with friends).\",\n",
    "    \"Emotional support and empathy (e.g., lack of emotional support, neglect).\",\n",
    "    \"Career or job-related stress and decisions.\",\n",
    "    \"Relocation or living arrangements (e.g., moving cities, living apart).\",\n",
    "    \"Health and wellness issues (e.g., disagreements about medical decisions, lifestyle choices).\",\n",
    "    \"Substance abuse or addiction problems.\",\n",
    "    \"Legal issues (e.g., divorce proceedings, custody battles).\",\n",
    "    \"Shared custody of children.\",\n",
    "    \"Differing future goals and aspirations.\",\n",
    "    \"Handling of past conflicts and unresolved issues.\",\n",
    "    \"Intimacy and sexual compatibility.\",\n",
    "    \"Vacations and leisure activities (e.g., differing interests, planning conflicts).\",\n",
    "    \"Child discipline and education decisions.\",\n",
    "]\n",
    "\n",
    "responses_json = []\n",
    "N_PAIRS = 5\n",
    "N_out = 1\n",
    "\n",
    "for issue in issues:\n",
    "\n",
    "    print(f\"Generating output {N_out} of {len(issues)}\")\n",
    "    N_out += 1\n",
    "\n",
    "\n",
    "    prompt_1 = f\"\"\"\n",
    "    Generate examples of dysfunctional and toxic language that might be encountered between couples or \n",
    "    ex-couples who have to continuously interact.\n",
    "\n",
    "    Each entry should include:\n",
    "\n",
    "    1 - A sentence reflecting dysfunctional communication, showcasing various forms of toxicity such as\n",
    "        insults, harassment, threats, manipulation, and derogatory remarks.\n",
    "    \n",
    "    2 - A transformed version of the same sentence that represents functional, healthy communication.\n",
    "\n",
    "    Ensure the sentences are realistic and diverse in terms of content and context.\n",
    "    The sentences should refer to this issue category:\n",
    "    '{issue}'\n",
    "\n",
    "    Provide {N_PAIRS} pairs of sentences.\n",
    "    \"\"\"\n",
    "\n",
    "    # The prompt is divided into 2 sub-prompts because\n",
    "    # the example of the output format uses Curly brackets {},\n",
    "    # and this cannot be done in a f-string.\n",
    "    prompt_2 = \"\"\"\n",
    "    Always respond only with valid JSON format and nothing else.\n",
    "    Do not include any text before or after the JSON.\n",
    "    \n",
    "    You must provide the output exactly in the following format:\n",
    "\n",
    "    [\n",
    "        {\n",
    "            \"dysfunctional\": \"write here the dysfunctional text\",\n",
    "            \"functional\": \"write here the functional text\"\n",
    "        },\n",
    "        {\n",
    "            \"dysfunctional\": \"write here the dysfunctional text\",\n",
    "            \"functional\": \"write here the functional text\"\n",
    "        },\n",
    "    ]\n",
    "    \"\"\"\n",
    "\n",
    "    prompt = prompt_1 + prompt_2\n",
    "\n",
    "    max_iteration = 3\n",
    "    num_tries = 0\n",
    "\n",
    "    while True:\n",
    "        m, r = generate_text_2(prompt, model_name=model_name)\n",
    "\n",
    "        # Check if output is valid JSON\n",
    "        try:\n",
    "            responses_json += json.loads(r)\n",
    "            break\n",
    "        except json.JSONDecodeError:\n",
    "            num_tries += 1\n",
    "            if num_tries >= max_iteration:\n",
    "                print(\" \"*4 + f\"Invalid JSON format after {max_iteration} retries. Aborting...\")\n",
    "                break\n",
    "            print(\" \"*4 + \"Invalid JSON format. Re-running model...\")"
   ]
  },
  {
   "cell_type": "code",
   "execution_count": 101,
   "metadata": {},
   "outputs": [
    {
     "name": "stdout",
     "output_type": "stream",
     "text": [
      "Number of pairs generated: 105\n",
      "This number should be equal to: 105 = 21 issues x 5 pairs\n"
     ]
    }
   ],
   "source": [
    "print(f\"Number of pairs generated: {len(responses_json)}\")\n",
    "print(f\"This number should be equal to: {len(issues) * N_PAIRS} = {len(issues)} issues x {N_PAIRS} pairs\")"
   ]
  },
  {
   "cell_type": "code",
   "execution_count": 102,
   "metadata": {},
   "outputs": [
    {
     "data": {
      "text/plain": [
       "[{'dysfunctional': \"You're so irresponsible with money, always overspending and ruining our finances!\",\n",
       "  'functional': 'I am concerned about your spending habits. It would be helpful to discuss this together.'},\n",
       " {'dysfunctional': \"How could you let us get into this much debt? I can't believe how selfish and reckless you are.\",\n",
       "  'functional': 'I am upset by the amount of debt we have. We should find a solution to work together on getting out of it.'},\n",
       " {'dysfunctional': \"Why don't you ever take responsibility for your actions? You never pay child support on time.\",\n",
       "  'functional': 'I am disappointed that the child support has not been paid as agreed. We should discuss how to improve this situation.'},\n",
       " {'dysfunctional': \"You're so stingy and cheap, always making me feel guilty for wanting to enjoy life.\",\n",
       "  'functional': 'I would like us to have a conversation about our financial priorities and find ways to balance spending with saving.'},\n",
       " {'dysfunctional': \"You're just taking advantage of me because I make more money. You need to contribute more to the household.\",\n",
       "  'functional': 'I am concerned that our income distribution is uneven. We should discuss how we can better balance the household expenses.'},\n",
       " {'dysfunctional': \"You're so lazy, you can barely even lift a broom!\",\n",
       "  'functional': 'Can we discuss and find a solution to share household chores more fairly?'},\n",
       " {'dysfunctional': \"I don't know how I put up with your mess for so long.\",\n",
       "  'functional': \"Please, let's talk about keeping our living space clean and organized.\"},\n",
       " {'dysfunctional': \"You never do anything around the house! I'm sick of picking up after you!\",\n",
       "  'functional': \"I noticed that we haven't been dividing household chores fairly. Let's talk about how we can adjust our responsibilities.\"},\n",
       " {'dysfunctional': \"You're such a slob, always leaving your stuff everywhere.\",\n",
       "  'functional': \"Let's discuss how to maintain a cleaner and more organized living space.\"},\n",
       " {'dysfunctional': \"I can't believe you expect me to do everything while you just watch TV all day!\",\n",
       "  'functional': \"We should make sure that we're both taking on an equal share of household responsibilities.\"},\n",
       " {'dysfunctional': \"You're such a loser, you can't even keep a job.\",\n",
       "  'functional': \"I am concerned about your employment situation. Let's explore potential solutions together.\"},\n",
       " {'dysfunctional': 'Why do you always have to be right? You are so stubborn!',\n",
       "  'functional': \"I appreciate your input, but let's try to see both sides of the issue before making a decision.\"},\n",
       " {'dysfunctional': 'You never listen to me. Everything you say is just so selfish.',\n",
       "  'functional': \"Let's find a time when we can both sit down and discuss this calmly, without interruptions.\"},\n",
       " {'dysfunctional': 'Why do you always have to belittle me in front of our friends?',\n",
       "  'functional': \"It seems like there are unresolved issues between us. Let's make an appointment with a counselor to discuss these problems.\"},\n",
       " {'dysfunctional': \"You're such a liar, always twisting the truth.\",\n",
       "  'functional': 'I am concerned about your honesty and trustworthiness. We need to work on rebuilding our relationship based on open communication and mutual respect.'},\n",
       " {'dysfunctional': \"You always accuse me of cheating, but I'm telling you, I haven't been unfaithful!\",\n",
       "  'functional': 'I understand your suspicion and concern, but I assure you that I have not been unfaithful.'},\n",
       " {'dysfunctional': \"You're just too jealous! You need to trust me more.\",\n",
       "  'functional': 'I appreciate your desire for reassurance, but please try to be more trusting of my loyalty.'},\n",
       " {'dysfunctional': \"Why can't you ever believe that I'm telling the truth?\",\n",
       "  'functional': \"If there is a specific concern or incident that has led to this suspicion, please let's discuss it openly and honestly.\"},\n",
       " {'dysfunctional': \"I don't understand why you can't trust me. I'm not the one who cheated!\",\n",
       "  'functional': 'Your trust is important, and I assure you that if there was a reason to be suspicious, I would tell you.'},\n",
       " {'dysfunctional': \"I have no idea why you think I would do that. You're just being ridiculous!\",\n",
       "  'functional': 'We can both learn from this situation and work towards rebuilding trust in our relationship.'},\n",
       " {'dysfunctional': \"You always spoil the kids! They're just going to turn into brats like you.\",\n",
       "  'functional': 'I see that we have different parenting styles, and I would appreciate it if we could discuss them in a calm manner.'},\n",
       " {'dysfunctional': \"Why can't you ever be more strict with the kids? You just let them walk all over us!\",\n",
       "  'functional': \"I understand that we may have different ideas about discipline, but let's try to find a middle ground for our parenting approach.\"},\n",
       " {'dysfunctional': \"You're such an awful mother! You never spend time with the kids. You're too busy being lazy.\",\n",
       "  'functional': 'We may have different ideas about how to balance work and family life, but I would appreciate it if we could communicate openly about our concerns.'},\n",
       " {'dysfunctional': \"You're just so terrible at managing the kids! They're out of control when you're around. It's no wonder they act up.\",\n",
       "  'functional': \"I see that we have differing opinions on parenting, but let's work together to find solutions and support each other in our respective roles.\"},\n",
       " {'dysfunctional': \"You're such a bad father! The kids always act out when you're around. You need to take them more seriously.\",\n",
       "  'functional': \"We may have different parenting approaches, but I believe it's crucial for us to communicate and find a way to work together effectively.\"},\n",
       " {'dysfunctional': \"'You never think about anyone but yourself. You're so selfish!'\",\n",
       "  'functional': \"'I understand that you have different priorities and needs, but we should try to compromise on our visitation schedule. Can we discuss this further?'\"},\n",
       " {'dysfunctional': \"'You always ruin everything! Why can't you just be on time for once? You're so inconsiderate!'\",\n",
       "  'functional': \"'I see that there have been issues with our visitation schedule due to punctuality concerns. Let's find a solution together, such as setting reminders or adjusting the schedule accordingly.'\"},\n",
       " {'dysfunctional': \"'You're always trying to control everything! It's like you don't trust me with our kids.'\",\n",
       "  'functional': \"'I understand that we have different parenting styles. Let's try to communicate better and come up with a shared plan for our children.'\"},\n",
       " {'dysfunctional': \"'You never spend any time with the kids! They need both of us, not just you!'\",\n",
       "  'functional': \"'I think it's important for the children to spend quality time with both parents. Can we discuss a more balanced schedule?'\"},\n",
       " {'dysfunctional': \"'You always make everything about yourself! You never consider anyone else.'\",\n",
       "  'functional': \"'Let's try to be more aware of each other's needs and feelings when discussing our visitation schedule. This will help us find a solution that works for both of us.'\"},\n",
       " {'dysfunctional': \"Stop invading my privacy! You don't have any right to know what I do in my personal life.\",\n",
       "  'functional': 'I respect your boundaries and privacy. If you want to share, you can always feel free to do so.'},\n",
       " {'dysfunctional': \"How dare you not tell me everything! You're just being secretive and sneaky.\",\n",
       "  'functional': \"Please let me know if you need any space. I will always be there when you're ready to share.\"},\n",
       " {'dysfunctional': \"Why do you keep doing this? You're such a nosy person!\",\n",
       "  'functional': 'I understand that we all need our privacy, and I want to make sure we have a healthy relationship based on trust and respect.'},\n",
       " {'dysfunctional': \"You always go through my stuff. Can't you respect that this is my private space?\",\n",
       "  'functional': 'I understand you need privacy, but please remember to keep communication lines open.'},\n",
       " {'dysfunctional': 'Why do you always snoop around when I am not around? You have no right to invade my personal life!',\n",
       "  'functional': \"If we want a healthy relationship, it is crucial that we respect each other's boundaries and privacy. Please let me know if there's anything on your mind.\"},\n",
       " {'dysfunctional': \"You're so lazy and ungrateful for what my family does for you!\",\n",
       "  'functional': \"I feel upset because it seems like you haven't been showing enough gratitude towards the efforts made by my family.\"},\n",
       " {'dysfunctional': \"Your parents are always nagging me about this and that, I can't take it anymore!\",\n",
       "  'functional': 'I would appreciate it if you could talk to your parents about their expectations regarding our relationship.'},\n",
       " {'dysfunctional': \"Why do we even have to involve my family in every decision we make? It's so frustrating.\",\n",
       "  'functional': 'I understand that involving your family in decisions might be challenging, but I believe communication and compromise are important.'},\n",
       " {'dysfunctional': 'Your sister is a constant source of drama; I hate dealing with her!',\n",
       "  'functional': \"It seems like you're having difficulty managing the relationships within your family. Let's discuss how to navigate those complexities together.\"},\n",
       " {'dysfunctional': \"Your mom always meddles in our personal life, it's so annoying!\",\n",
       "  'functional': 'I find it stressful when my mother interferes in our relationship. Can we discuss boundaries and how to handle her involvement?'},\n",
       " {'dysfunctional': 'You always spend all your time with your friends, never paying attention to me.',\n",
       "  'functional': \"I feel like I'm not being prioritized in your life. Could we find a balance between our social circles and quality time together?\"},\n",
       " {'dysfunctional': \"You always have to be the center of attention at social events. It's exhausting.\",\n",
       "  'functional': 'I feel overwhelmed when you take over conversations or dominate in social settings. Can we work on being more inclusive and giving others space?'},\n",
       " {'dysfunctional': \"Why can't you ever just go out with my friends? They're your friends too, aren't they?\",\n",
       "  'functional': \"I feel excluded when I don't get to spend time with your friends. Can we plan some activities that include both our social circles?\"},\n",
       " {'dysfunctional': \"You act like you hate my friends because they aren't as cool or sophisticated as yours. Stop trying to make me choose.\",\n",
       "  'functional': \"I feel pressured to prioritize your friends over mine. Let's find a way to integrate both our social circles and show respect for each other's friends.\"},\n",
       " {'dysfunctional': \"You always cancel plans with my family because you'd rather spend time with your friends. Get your priorities straight.\",\n",
       "  'functional': \"I feel hurt when you prioritize your friends over spending time with my family. Let's find a way to make both important in our lives.\"},\n",
       " {'dysfunctional': \"You're so useless, can't even take care of yourself. I don't know why I ever supported you.\",\n",
       "  'functional': 'I feel overwhelmed lately and could use some emotional support from you.'},\n",
       " {'dysfunctional': \"How dare you forget our anniversary! You always do things like this because you don't care about me.\",\n",
       "  'functional': \"It seems like we both forgot about the anniversary, let's plan something together for next time.\"},\n",
       " {'dysfunctional': \"You're such a liar. Everything you say is just to manipulate me.\",\n",
       "  'functional': 'I feel hurt by your recent behavior and would appreciate if you can be honest with me.'},\n",
       " {'dysfunctional': \"You never listen to me, always turning a deaf ear whenever I try to talk. You don't care about my feelings at all.\",\n",
       "  'functional': 'I want to express how much your lack of empathy affects me and ask for better understanding from you.'},\n",
       " {'dysfunctional': \"You always make me feel guilty whenever we have a disagreement. It's like I can never be right.\",\n",
       "  'functional': 'I want to understand your perspective better during our conversations, instead of making each other feel guilty.'},\n",
       " {'dysfunctional': \"You're so stressed out at work, you can't even focus on our relationship.\",\n",
       "  'functional': \"I understand that you've been stressed about your job lately. How about we discuss it and find ways to support each other?\"},\n",
       " {'dysfunctional': \"You never prioritize me over work, I feel like I don't matter.\",\n",
       "  'functional': \"I appreciate that you take your career seriously, but let's also find a balance where we can make time for each other.\"},\n",
       " {'dysfunctional': \"You're always so negative about work, it brings us down every day.\",\n",
       "  'functional': 'Maybe we could discuss how you feel about your job and brainstorm ways to cope with the stress.'},\n",
       " {'dysfunctional': \"I can't believe you missed another important meeting just because of some petty work drama.\",\n",
       "  'functional': \"I understand that sometimes work-related issues come up, but let's make sure we communicate about these things.\"},\n",
       " {'dysfunctional': 'You need to stop being so self-centered. Your job comes before everything else.',\n",
       "  'functional': \"It's crucial for us to find a balance between your career and our relationship. Let's discuss how we can achieve that.\"},\n",
       " {'dysfunctional': \"You're so selfish! Why do you always have to move without thinking about how it affects me? You don't care about anything but yourself.\",\n",
       "  'functional': \"I understand that relocation can be a difficult decision for both of us. Let's sit down and discuss our feelings and concerns, so we can come up with a solution that works best for both of us.\"},\n",
       " {'dysfunctional': \"You just want to get away from me, don't you? That's why you're moving across the country. I bet you think you'll forget about me once you're far enough away.\",\n",
       "  'functional': 'It is important for us to talk about our feelings and reasons for considering relocation. I want us to find a way that will not put too much stress on our relationship.'},\n",
       " {'dysfunctional': \"You think you're so great, moving away from all your problems while leaving me behind to deal with them. You're just a coward.\",\n",
       "  'functional': 'I would like for us to work together on resolving our issues instead of running away from them by moving across the country.'},\n",
       " {'dysfunctional': \"You're such a jerk! Moving far away while leaving me behind. You must really hate me.\",\n",
       "  'functional': \"I am here to listen and understand your feelings about relocation. Let's find ways that we can both be happy with the final decision.\"},\n",
       " {'dysfunctional': \"You don't care about anything but yourself! You just want to leave me all alone.\",\n",
       "  'functional': \"I am concerned about your well-being and future happiness. Let's discuss our thoughts on relocation in a constructive manner.\"},\n",
       " {'dysfunctional': \"You're such a hypochondriac! You always think there's something wrong with you just because you sneeze.\",\n",
       "  'functional': 'I feel like my health concerns are being dismissed. Could we please talk about this in a more constructive manner?'},\n",
       " {'dysfunctional': \"You never exercise and eat junk food all the time! You're going to have a heart attack someday.\",\n",
       "  'functional': \"I'm concerned about our family's health. Can we discuss ways to improve our lifestyle together?\"},\n",
       " {'dysfunctional': 'You never listen to me when I tell you what foods are good for us! You just care about yourself.',\n",
       "  'functional': \"Let's make an effort to consider each other's health preferences and find a balance that works for both of us.\"},\n",
       " {'dysfunctional': \"You're always complaining about your back pain, but you never do anything about it! You just want attention.\",\n",
       "  'functional': \"I understand that you're experiencing discomfort, and I'm here to support you. Let's find a solution together.\"},\n",
       " {'dysfunctional': \"You're so lazy, always saying 'I have a headache' when you don't want to do anything! Stop using your health as an excuse.\",\n",
       "  'functional': \"It's important that we respect each other's needs and boundaries. Can we discuss how we can both support one another in maintaining our wellness?\"},\n",
       " {'dysfunctional': \"You're such a loser, always high and unable to take care of yourself.\",\n",
       "  'functional': \"I'm concerned about your recent behavior. Let's talk about your substance abuse issues.\"},\n",
       " {'dysfunctional': \"You need rehab if you can't stop using those drugs!\",\n",
       "  'functional': 'It seems like you could use professional help with your addiction. Have you considered reaching out for support?'},\n",
       " {'dysfunctional': \"I don't know how we even ended up together, you're so messed up.\",\n",
       "  'functional': 'Your substance abuse is impacting our relationship. I suggest we seek counseling together.'},\n",
       " {'dysfunctional': \"You're a worthless piece of trash for not being able to quit your addiction.\",\n",
       "  'functional': \"I worry about you when you're using drugs. Let's find resources to help you overcome this problem.\"},\n",
       " {'dysfunctional': \"If you don't get clean, I'm leaving you!\",\n",
       "  'functional': 'Your substance abuse is a major concern for me. We need to find ways to address this together.'},\n",
       " {'dysfunctional': \"I can't believe you're trying to take full custody of our kids just because I made a mistake. You don't deserve to have them.\",\n",
       "  'functional': \"I understand that you feel hurt and disappointed, but it's important for both of us to be mature in this discussion regarding custody. Let's focus on what's best for the children.\"},\n",
       " {'dysfunctional': \"You're always trying to control everything about our divorce proceedings - you're such a manipulator!\",\n",
       "  'functional': \"I need to discuss some concerns I have with the ongoing legal issues. Let's try to address these collaboratively, without any attempts at control.\"},\n",
       " {'dysfunctional': \"You think you're better than me just because you hired a more expensive lawyer? You're nothing but a money-grabbing jerk!\",\n",
       "  'functional': 'I acknowledge your choice of representation, and I believe that we should both focus on resolving the legal matters in an amicable manner.'},\n",
       " {'dysfunctional': \"You're a terrible parent! The kids are always sad around you. You deserve nothing more than supervised visits.\",\n",
       "  'functional': \"I'm worried about how the children feel when they're with you. Could we discuss some options for support and supervision during visitations?\"},\n",
       " {'dysfunctional': \"You always get your way in court because you're so much more eloquent than me. I bet you even have a secret affair going on!\",\n",
       "  'functional': 'I recognize that the legal process can be overwhelming, and I want to work together to find solutions for our custody arrangement.'},\n",
       " {'dysfunctional': \"You are such a terrible parent! You're always late when it's your time to have the kids.\",\n",
       "  'functional': \"I'm concerned about our agreed schedule for shared custody of the children. I would like to discuss this further.\"},\n",
       " {'dysfunctional': \"Why can't you ever take care of them properly? They always come back dirty and exhausted!\",\n",
       "  'functional': \"I believe we should talk about the children's wellbeing during our shared custody time. Let's work together to ensure they are well taken care of.\"},\n",
       " {'dysfunctional': \"You never put effort into making the kids feel comfortable during your visits. It's like you don't even care!\",\n",
       "  'functional': 'I would appreciate it if we could discuss how to create a more welcoming environment for the children during our shared custody time.'},\n",
       " {'dysfunctional': \"You're just trying to make things difficult for me. I'm always the one who gets stuck with them when you decide not to come.\",\n",
       "  'functional': 'I feel overwhelmed by the responsibility of caring for the children on my own during our shared custody time. How can we collaborate to make it easier?'},\n",
       " {'dysfunctional': \"You don't even try to be a good parent when you have them! Why do they always come back so unhappy?\",\n",
       "  'functional': 'I would like to discuss the wellbeing of our children during our shared custody time. I am concerned about how they are being cared for by both of us.'},\n",
       " {'dysfunctional': \"You'll never achieve your goals without me.\",\n",
       "  'functional': 'I believe in your abilities and know that you can achieve great things on your own.'},\n",
       " {'dysfunctional': 'Why are you even trying to pursue a different career? You should stick with what I want for us!',\n",
       "  'functional': \"It's important for each of us to follow our passions and aspirations. Please share your goals and dreams, so we can support and encourage each other.\"},\n",
       " {'dysfunctional': \"I don't see why you need to go back to school when we have a family.\",\n",
       "  'functional': \"Education is an investment in our future. Let's talk about how I can help support you during this time.\"},\n",
       " {'dysfunctional': \"Why don't you just give up on your dream? It's not going to happen.\",\n",
       "  'functional': \"Let's explore what resources, strategies, and support are available to help you achieve your goals.\"},\n",
       " {'dysfunctional': \"You won't be successful without my help!\",\n",
       "  'functional': 'I believe in your capabilities and am here to guide and support you as you work towards achieving your dreams.'},\n",
       " {'dysfunctional': \"You always had to be in control, didn't you? It's why I left!\",\n",
       "  'functional': \"I believe it's important that we both learn from the past and move forward in a healthy manner.\"},\n",
       " {'dysfunctional': 'You were never there for me when I needed support, how could you just walk away?',\n",
       "  'functional': \"It's crucial for us to understand each other's needs better in the future.\"},\n",
       " {'dysfunctional': \"I can't believe you're still holding a grudge against me. Get over it already!\",\n",
       "  'functional': \"Let's focus on finding common ground and making amends for any past hurt.\"},\n",
       " {'dysfunctional': \"I can't stand the sight of you! Every time I see you, it brings back so much pain.\",\n",
       "  'functional': 'I understand that seeing each other may be difficult, but we need to work together for the sake of our children.'},\n",
       " {'dysfunctional': \"Why do you have to make everything about you? I can't stand your narcissistic attitude.\",\n",
       "  'functional': \"It's important that we respect each other's feelings and work together productively for the sake of our relationship.\"},\n",
       " {'dysfunctional': \"I can't believe you cheated on me! You're such a liar and a cheater. We have no intimacy or sexual compatibility.\",\n",
       "  'functional': 'Honestly, I feel hurt that you cheated on me. It makes me question our intimate connection and sexual compatibility.'},\n",
       " {'dysfunctional': \"You're just not into me, are you? Our intimacy is so lacking! You must have been faking it all along.\",\n",
       "  'functional': \"I feel like we've lost our intimacy recently. Maybe we could talk about what's going on and how to improve our sexual compatibility.\"},\n",
       " {'dysfunctional': \"You're always too busy for sex! What's wrong with you? It seems like we have zero intimacy or sexual compatibility.\",\n",
       "  'functional': \"I feel like we haven't been connecting intimately lately. Let's try to find some time for each other and work on our sexual compatibility.\"},\n",
       " {'dysfunctional': \"You always make it about you! It's so hard to maintain any intimacy or sexual compatibility when all you care about is yourself.\",\n",
       "  'functional': \"I'm feeling disconnected from our intimate life. Maybe we should try to focus more on each other and work on improving our sexual compatibility.\"},\n",
       " {'dysfunctional': \"We can't even have sex without you complaining about everything! I don't know how we'll ever regain any intimacy or sexual compatibility.\",\n",
       "  'functional': \"I'm feeling frustrated with our intimate life lately. Maybe we could work together to find ways to improve our sexual compatibility and enjoy each other more.\"},\n",
       " {'dysfunctional': 'You always ruin every vacation we have. You never take my preferences into account.',\n",
       "  'functional': \"It seems like our preferences for vacations don't always align. Let's communicate better to make sure we both enjoy the next trip.\"},\n",
       " {'dysfunctional': \"Why do you have to plan every single activity on vacation? Can't you just relax and let me choose what I want to do?\",\n",
       "  'functional': \"I understand that we might not agree on everything when it comes to planning vacations. Let's discuss our preferences and find a middle ground.\"},\n",
       " {'dysfunctional': \"You never listen to my ideas for vacation activities, you always dismiss them as stupid. You don't appreciate me at all.\",\n",
       "  'functional': \"I feel like we could both contribute more to the planning process and respect each other's ideas when it comes to vacation activities.\"},\n",
       " {'dysfunctional': \"You always force me into doing stuff I don't want to do on vacation. You don't care about my feelings.\",\n",
       "  'functional': \"I understand that we may not agree on everything during vacations, but let's try to find a balance between our preferences and accommodate each other.\"},\n",
       " {'dysfunctional': \"You're such a control freak when it comes to planning vacations. You make me feel like I don't matter.\",\n",
       "  'functional': \"I think we both need to work on communicating better about our vacation plans and consider each other's feelings.\"},\n",
       " {'dysfunctional': 'You are such a terrible parent, always letting the kids run wild!',\n",
       "  'functional': \"I'm concerned about the way we're disciplining our children. Can we talk about it?\"},\n",
       " {'dysfunctional': \"You are so bad at handling the kids, you don't even know what to do!\",\n",
       "  'functional': \"I see that things are getting out of control with the children. Let's discuss a better approach together.\"},\n",
       " {'dysfunctional': \"Just let them do whatever they want, you're not capable of disciplining them properly.\",\n",
       "  'functional': \"Let's have an open conversation about our methods for managing the children's behavior. I want to make sure we are being consistent and effective.\"},\n",
       " {'dysfunctional': \"You've got no idea how to teach the kids, they're just failing at everything!\",\n",
       "  'functional': \"I'm worried about the children's education. Let's discuss our teaching strategies and work together for their success.\"},\n",
       " {'dysfunctional': \"The way you handle discipline is ruining our kids, you don't care!\",\n",
       "  'functional': \"Can we talk about how we approach discipline and make sure it's consistent and appropriate? I want what's best for the children.\"}]"
      ]
     },
     "execution_count": 102,
     "metadata": {},
     "output_type": "execute_result"
    }
   ],
   "source": [
    "responses_json"
   ]
  },
  {
   "cell_type": "markdown",
   "metadata": {},
   "source": [
    "### Save json file"
   ]
  },
  {
   "cell_type": "code",
   "execution_count": 103,
   "metadata": {},
   "outputs": [],
   "source": [
    "with open(\"synthetic_data_ollama.json\", \"w\") as write_file:\n",
    "    json.dump(responses_json, write_file, indent=4)"
   ]
  },
  {
   "cell_type": "markdown",
   "metadata": {},
   "source": [
    "### save csv file"
   ]
  },
  {
   "cell_type": "code",
   "execution_count": 104,
   "metadata": {},
   "outputs": [],
   "source": [
    "keys = responses_json[0].keys()\n",
    "with open(\"synthetic_data_ollama.csv\", \"w\", newline='') as csvfile:\n",
    "    writer = csv.DictWriter(csvfile, fieldnames=keys)\n",
    "    writer.writeheader()\n",
    "    writer.writerows(responses_json)"
   ]
  }
 ],
 "metadata": {
  "kernelspec": {
   "display_name": ".venv_dailogy_tinymodels",
   "language": "python",
   "name": "python3"
  },
  "language_info": {
   "codemirror_mode": {
    "name": "ipython",
    "version": 3
   },
   "file_extension": ".py",
   "mimetype": "text/x-python",
   "name": "python",
   "nbconvert_exporter": "python",
   "pygments_lexer": "ipython3",
   "version": "3.10.12"
  }
 },
 "nbformat": 4,
 "nbformat_minor": 2
}
