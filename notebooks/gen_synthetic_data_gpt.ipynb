{
 "cells": [
  {
   "cell_type": "markdown",
   "metadata": {},
   "source": [
    "# Generate synthetic data\n",
    "\n",
    "We generate synthetic data using the OpenAI API with the `gpt-3.5-turbo` model."
   ]
  },
  {
   "cell_type": "code",
   "execution_count": 1,
   "metadata": {},
   "outputs": [
    {
     "name": "stderr",
     "output_type": "stream",
     "text": [
      "/home/daniele/Desktop/Projects/dailogy_tiny_models/.venv_dailogy_tinymodels/lib/python3.10/site-packages/environ/environ.py:639: UserWarning: /tmp/ipykernel_22479/.env doesn't exist - if you're not configuring your environment separately, create one.\n",
      "  warnings.warn(\n"
     ]
    }
   ],
   "source": [
    "import environ\n",
    "from openai import OpenAI\n",
    "import openai\n",
    "import json\n",
    "import csv\n",
    "\n",
    "# Import OpenAI key\n",
    "env = environ.Env()\n",
    "environ.Env.read_env()\n",
    "API_KEY = env(\"OPENAI_API_KEY\")\n",
    "openai.api_key = API_KEY\n",
    "\n",
    "# Set constanst\n",
    "LLM_MODEL = \"gpt-3.5-turbo\"\n",
    "TEMPERATURE = 0\n",
    "\n",
    "# Client\n",
    "client_openai = OpenAI()"
   ]
  },
  {
   "cell_type": "markdown",
   "metadata": {},
   "source": [
    "## First test the prompt\n",
    "\n",
    "We use the same prompt used for the `ollama` model"
   ]
  },
  {
   "cell_type": "code",
   "execution_count": 2,
   "metadata": {},
   "outputs": [],
   "source": [
    "prompt = \"\"\"\n",
    "Generate examples of dysfunctional and toxic language that might be encountered between couples or \n",
    "ex-couples who have to continuously interact.\n",
    "\n",
    "Each entry should include:\n",
    "\n",
    "1 - A sentence reflecting dysfunctional communication, showcasing various forms of toxicity such as\n",
    "    insults, harassment, threats, manipulation, and derogatory remarks.\n",
    "    \n",
    "2 - A transformed version of the same sentence that represents functional, healthy communication.\n",
    "\n",
    "Ensure the sentences are realistic and diverse in terms of content and context.\n",
    "The sentences should refer to this issue category:\n",
    "'Financial disagreements (e.g., spending habits, debt, child support payments)'\n",
    "\n",
    "Provide 5 pairs of sentences.\n",
    "\n",
    "Write the output using this format:\n",
    "    [\n",
    "        {\n",
    "            \"dysfunctional\": \"write here the dysfunctional text\",\n",
    "            \"functional\": \"write here the functional text\"\n",
    "        },\n",
    "        {\n",
    "            \"dysfunctional\": \"write here the dysfunctional text\",\n",
    "            \"functional\": \"write here the functional text\"\n",
    "        },\n",
    "    ]\n",
    "\"\"\"\n",
    "\n",
    "system_content = \"\"\"\n",
    "add system content here\n",
    "\"\"\""
   ]
  },
  {
   "cell_type": "code",
   "execution_count": 3,
   "metadata": {},
   "outputs": [],
   "source": [
    "completion = client_openai.chat.completions.create(\n",
    "  model=LLM_MODEL,\n",
    "  messages=[\n",
    "    # {\"role\": \"system\", \"content\": system_content},\n",
    "    {\"role\": \"user\", \"content\": prompt}\n",
    "  ],\n",
    "  temperature=TEMPERATURE,\n",
    ")"
   ]
  },
  {
   "cell_type": "code",
   "execution_count": 4,
   "metadata": {},
   "outputs": [
    {
     "name": "stdout",
     "output_type": "stream",
     "text": [
      "CompletionUsage(completion_tokens=293, prompt_tokens=198, total_tokens=491)\n"
     ]
    }
   ],
   "source": [
    "print(completion.usage)"
   ]
  },
  {
   "cell_type": "code",
   "execution_count": 5,
   "metadata": {},
   "outputs": [
    {
     "name": "stdout",
     "output_type": "stream",
     "text": [
      "[\n",
      "    {\n",
      "        \"dysfunctional\": \"You always waste money on useless things! You're so irresponsible!\",\n",
      "        \"functional\": \"I feel concerned about our financial situation. Can we discuss our spending habits and find a solution together?\"\n",
      "    },\n",
      "    {\n",
      "        \"dysfunctional\": \"If you don't pay child support on time, I'll make sure you regret it!\",\n",
      "        \"functional\": \"It's important for our child's well-being that we both fulfill our financial responsibilities. Can we work out a plan to ensure timely payments?\"\n",
      "    },\n",
      "    {\n",
      "        \"dysfunctional\": \"You're a gold digger who only cares about money!\",\n",
      "        \"functional\": \"I value our relationship and want to address any concerns we have about financial matters. Can we have an open and respectful conversation about this?\"\n",
      "    },\n",
      "    {\n",
      "        \"dysfunctional\": \"I'll drain our joint account if you don't give me what I want!\",\n",
      "        \"functional\": \"I understand we have disagreements about finances. Let's find a fair and reasonable way to handle our shared expenses without resorting to threats.\"\n",
      "    },\n",
      "    {\n",
      "        \"dysfunctional\": \"You're a deadbeat who can't even support your own child!\",\n",
      "        \"functional\": \"I believe it's important for both of us to contribute to our child's needs. Can we discuss how to handle child support payments in a way that works for both of us?\"\n",
      "    }\n",
      "]\n"
     ]
    }
   ],
   "source": [
    "print(completion.choices[0].message.content)"
   ]
  },
  {
   "cell_type": "markdown",
   "metadata": {},
   "source": [
    "#### ok it works :-)\n",
    "#### It seems we don't need 'system_content'"
   ]
  },
  {
   "cell_type": "markdown",
   "metadata": {},
   "source": [
    "## Multiple issues"
   ]
  },
  {
   "cell_type": "code",
   "execution_count": 6,
   "metadata": {},
   "outputs": [],
   "source": [
    "issues = [\n",
    "    \"Financial disagreements (e.g., spending habits, debt, child support payments).\",\n",
    "    \"Division of household responsibilities (e.g., chores, maintenance).\",\n",
    "    \"Communication breakdowns (e.g., lack of communication, misunderstandings).\",\n",
    "    \"Trust issues (e.g., infidelity, suspicion, jealousy).\",\n",
    "    \"Differences in parenting styles or decisions.\",\n",
    "    \"Time management and scheduling conflicts (e.g., visitation schedules, personal time).\",\n",
    "    \"Personal boundaries and respect for privacy.\",\n",
    "    \"Extended family involvement (e.g., in-laws, family obligations).\",\n",
    "    \"Social life and friendships (e.g., differing social circles, time spent with friends).\",\n",
    "    \"Emotional support and empathy (e.g., lack of emotional support, neglect).\",\n",
    "    \"Career or job-related stress and decisions.\",\n",
    "    \"Relocation or living arrangements (e.g., moving cities, living apart).\",\n",
    "    \"Health and wellness issues (e.g., disagreements about medical decisions, lifestyle choices).\",\n",
    "    \"Substance abuse or addiction problems.\",\n",
    "    \"Legal issues (e.g., divorce proceedings, custody battles).\",\n",
    "    \"Shared custody of children.\",\n",
    "    \"Differing future goals and aspirations.\",\n",
    "    \"Handling of past conflicts and unresolved issues.\",\n",
    "    \"Intimacy and sexual compatibility.\",\n",
    "    \"Vacations and leisure activities (e.g., differing interests, planning conflicts).\",\n",
    "    \"Child discipline and education decisions.\",\n",
    "]\n",
    "\n",
    "responses = []\n",
    "N_PAIRS = 5\n",
    "\n",
    "for issue in issues:\n",
    "    prompt_1 = f\"\"\"\n",
    "    Generate examples of dysfunctional and toxic language that might be encountered between couples or \n",
    "    ex-couples who have to continuously interact.\n",
    "\n",
    "    Each entry should include:\n",
    "\n",
    "    1 - A sentence reflecting dysfunctional communication, showcasing various forms of toxicity such as\n",
    "        insults, harassment, threats, manipulation, and derogatory remarks.\n",
    "    \n",
    "    2 - A transformed version of the same sentence that represents functional, healthy communication.\n",
    "\n",
    "    Ensure the sentences are realistic and diverse in terms of content and context.\n",
    "    The sentences should refer to this issue category:\n",
    "    '{issue}'\n",
    "\n",
    "    Provide {N_PAIRS} pairs of sentences.\n",
    "    \"\"\"\n",
    "\n",
    "    # The prompt is divided into 2 sub-prompts because\n",
    "    # the example of the output format uses Curly brackets {},\n",
    "    # and this cannot be done in a f-string.\n",
    "    prompt_2 = \"\"\"\n",
    "    Write the output using this format:\n",
    "    [\n",
    "        {\n",
    "            \"dysfunctional\": \"write here the dysfunctional text\",\n",
    "            \"functional\": \"write here the functional text\"\n",
    "        },\n",
    "        {\n",
    "            \"dysfunctional\": \"write here the dysfunctional text\",\n",
    "            \"functional\": \"write here the functional text\"\n",
    "        },\n",
    "    ]\n",
    "    \"\"\"\n",
    "\n",
    "    prompt = prompt_1 + prompt_2\n",
    "    \n",
    "    completion = client_openai.chat.completions.create(\n",
    "        model=LLM_MODEL,\n",
    "        messages=[\n",
    "            # {\"role\": \"system\", \"content\": system_content},\n",
    "            {\"role\": \"user\", \"content\": prompt}\n",
    "        ],\n",
    "        temperature=TEMPERATURE,\n",
    "    )\n",
    "    responses.append(completion.choices[0].message.content)"
   ]
  },
  {
   "cell_type": "code",
   "execution_count": 7,
   "metadata": {},
   "outputs": [
    {
     "data": {
      "text/plain": [
       "['[\\n    {\\n        \"dysfunctional\": \"You always waste money on useless things! You\\'re so irresponsible with our finances.\",\\n        \"functional\": \"I\\'ve noticed we have different spending habits. Can we discuss how we can better manage our finances together?\"\\n    },\\n    {\\n        \"dysfunctional\": \"If you don\\'t pay child support on time, I\\'ll make sure you regret it.\",\\n        \"functional\": \"It\\'s important for both of us to fulfill our financial responsibilities. Can we find a way to ensure child support payments are made on time?\"\\n    },\\n    {\\n        \"dysfunctional\": \"You\\'re a gold digger who only cares about money. I regret ever being with you.\",\\n        \"functional\": \"Let\\'s have a calm discussion about our financial disagreements and how we can move forward positively.\"\\n    },\\n    {\\n        \"dysfunctional\": \"I\\'ll drain our joint account if you don\\'t agree to my terms. You\\'ll be left with nothing.\",\\n        \"functional\": \"Let\\'s work together to find a fair solution that respects both of our financial needs and concerns.\"\\n    },\\n    {\\n        \"dysfunctional\": \"You\\'re always asking for more money, you\\'re so greedy and selfish.\",\\n        \"functional\": \"I feel like our financial expectations are not aligned. Can we talk about finding a balance that works for both of us?\"\\n    }\\n]',\n",
       " '[\\n    {\\n        \"dysfunctional\": \"You never do anything around the house! I\\'m sick of carrying all the weight while you sit around doing nothing.\",\\n        \"functional\": \"I\\'ve noticed that I\\'ve been feeling overwhelmed with the household responsibilities lately. Can we discuss a more balanced division of chores?\"\\n    },\\n    {\\n        \"dysfunctional\": \"If you don\\'t start pulling your weight and helping out, I\\'m going to stop doing anything at all!\",\\n        \"functional\": \"I understand we both have busy schedules, but it\\'s important for us to share the household responsibilities. Can we come up with a plan together?\"\\n    },\\n    {\\n        \"dysfunctional\": \"You\\'re so lazy and useless. I can\\'t believe I have to remind you to do basic chores all the time.\",\\n        \"functional\": \"I\\'ve noticed that sometimes chores slip your mind. Can we find a way to communicate better about what needs to be done around the house?\"\\n    },\\n    {\\n        \"dysfunctional\": \"I\\'m tired of being your maid. You need to start acting like an adult and take care of your own responsibilities.\",\\n        \"functional\": \"I feel overwhelmed when I have to take care of all the household chores. Can we discuss a more equitable distribution of responsibilities?\"\\n    },\\n    {\\n        \"dysfunctional\": \"If you don\\'t start helping out more, I\\'m going to leave you. I can\\'t handle this unequal division of labor anymore.\",\\n        \"functional\": \"I feel like the division of household responsibilities is causing strain in our relationship. Can we work together to find a solution that works for both of us?\"\\n    }\\n]',\n",
       " '[\\n    {\\n        \"dysfunctional\": \"You never listen to me, you always twist my words and make me feel like I\\'m crazy!\",\\n        \"functional\": \"I feel like my words are being misunderstood, can we try to have a more open and honest conversation?\"\\n    },\\n    {\\n        \"dysfunctional\": \"You\\'re so stupid, no wonder we can\\'t communicate properly!\",\\n        \"functional\": \"I think we\\'re having trouble understanding each other, can we work on improving our communication?\"\\n    },\\n    {\\n        \"dysfunctional\": \"You\\'re impossible to talk to, I give up trying to make you understand anything.\",\\n        \"functional\": \"I\\'m feeling frustrated with our communication, can we find a way to better express our thoughts and feelings?\"\\n    },\\n    {\\n        \"dysfunctional\": \"You always twist my words, it\\'s like you enjoy making me feel misunderstood.\",\\n        \"functional\": \"I\\'m feeling misunderstood when we talk, can we try to clarify our intentions and meanings?\"\\n    },\\n    {\\n        \"dysfunctional\": \"I can\\'t believe how dense you are, no wonder we can\\'t have a decent conversation.\",\\n        \"functional\": \"I\\'m finding it hard to communicate effectively with you, can we work on being more patient and understanding?\"\\n    }\\n]',\n",
       " '[\\n    {\\n        \"dysfunctional\": \"I can\\'t trust you after what you did with that coworker. You\\'re always sneaking around behind my back.\",\\n        \"functional\": \"I feel hurt and betrayed by what happened with your coworker. Can we talk about how to rebuild trust?\"\\n    },\\n    {\\n        \"dysfunctional\": \"You\\'re probably cheating on me right now, aren\\'t you? I can\\'t believe anything you say anymore.\",\\n        \"functional\": \"I\\'m feeling insecure and anxious about our relationship. Can we discuss ways to address my concerns and rebuild trust?\"\\n    },\\n    {\\n        \"dysfunctional\": \"You\\'re just like all the others, lying and cheating. I knew I shouldn\\'t have trusted you.\",\\n        \"functional\": \"I\\'m struggling with feelings of betrayal and mistrust. Can we work together to understand what led to this situation and how we can move forward?\"\\n    },\\n    {\\n        \"dysfunctional\": \"I saw the messages on your phone. You\\'re a liar and a cheat, just like I suspected all along.\",\\n        \"functional\": \"I came across some concerning messages on your phone that have made me feel uneasy. Can we have an open conversation about this?\"\\n    },\\n    {\\n        \"dysfunctional\": \"You\\'re always accusing me of things I didn\\'t do. I can\\'t be with someone who doesn\\'t trust me.\",\\n        \"functional\": \"I feel hurt when you accuse me of things I haven\\'t done. Can we find a way to address your concerns without damaging our trust?\"\\n    }\\n]',\n",
       " '[\\n    {\\n        \"dysfunctional\": \"You\\'re such a terrible parent, always coddling the kids and never disciplining them properly.\",\\n        \"functional\": \"I think we have different approaches to parenting, and it\\'s important for us to find a middle ground that works for both of us.\"\\n    },\\n    {\\n        \"dysfunctional\": \"I can\\'t believe you let our child eat that junk food, you\\'re setting them up for a lifetime of health problems.\",\\n        \"functional\": \"I have concerns about the food choices for our child, can we discuss and come up with a healthier meal plan together?\"\\n    },\\n    {\\n        \"dysfunctional\": \"You\\'re so controlling with the kids, always hovering over them and not letting them have any freedom.\",\\n        \"functional\": \"I feel like we have different perspectives on giving our kids independence, can we talk about finding a balance that works for both of us?\"\\n    },\\n    {\\n        \"dysfunctional\": \"You\\'re such a lazy parent, never helping out with the kids\\' homework or activities.\",\\n        \"functional\": \"I feel overwhelmed with the responsibilities of parenting, can we discuss how we can share the workload more effectively?\"\\n    },\\n    {\\n        \"dysfunctional\": \"You\\'re always undermining my authority with the kids, no wonder they don\\'t listen to me.\",\\n        \"functional\": \"I feel like we have conflicting approaches to discipline, can we talk about how we can support each other in front of the kids?\"\\n    }\\n]',\n",
       " '[\\n        {\\n            \"dysfunctional\": \"You always prioritize your friends over spending time with our kids. You\\'re a terrible parent.\",\\n            \"functional\": \"I understand you have commitments, but it\\'s important for our kids to have quality time with both of us. Can we find a way to balance things better?\"\\n        },\\n        {\\n            \"dysfunctional\": \"You never stick to the visitation schedule. You\\'re so unreliable and selfish.\",\\n            \"functional\": \"I\\'ve noticed some inconsistencies with the visitation schedule. Can we discuss how we can make it work better for both of us?\"\\n        },\\n        {\\n            \"dysfunctional\": \"I don\\'t care if you have plans, you need to drop everything and take the kids right now. You owe me that much.\",\\n            \"functional\": \"I understand you have plans, but there\\'s been a change in the schedule. Can we work together to find a solution that works for both of us?\"\\n        },\\n        {\\n            \"dysfunctional\": \"You\\'re always late to pick up the kids. You clearly don\\'t care about their well-being.\",\\n            \"functional\": \"I\\'ve noticed some lateness in pick-up times. Can we discuss how we can improve punctuality for the benefit of the kids?\"\\n        },\\n        {\\n            \"dysfunctional\": \"I don\\'t care if you have work, you need to cancel everything and take the kids. Your job is less important than mine.\",\\n            \"functional\": \"I understand you have work commitments, but there\\'s been an emergency with the kids. Can we figure out a solution together?\"\\n        }\\n    ]',\n",
       " '[\\n    {\\n        \"dysfunctional\": \"You never respected my privacy when we were together, so why start now? I\\'ll do whatever I want.\",\\n        \"functional\": \"I understand the importance of personal boundaries. Let\\'s establish clear guidelines for our interactions.\"\\n    },\\n    {\\n        \"dysfunctional\": \"I saw you talking to someone at the party last night. Are you trying to hide things from me again?\",\\n        \"functional\": \"I noticed you were engaged in a conversation at the party. Can we discuss how we handle social interactions in public?\"\\n    },\\n    {\\n        \"dysfunctional\": \"You always kept secrets from me. I bet you\\'re still hiding things from me now.\",\\n        \"functional\": \"I value honesty and transparency in our communication. Can we address any concerns openly and respectfully?\"\\n    },\\n    {\\n        \"dysfunctional\": \"I don\\'t care if you want space. I\\'ll show up whenever I feel like it. You can\\'t keep me away.\",\\n        \"functional\": \"I understand you need space. Let\\'s discuss how we can respect each other\\'s need for privacy and time alone.\"\\n    },\\n    {\\n        \"dysfunctional\": \"You\\'re so paranoid about your privacy. It\\'s like you have something to hide all the time.\",\\n        \"functional\": \"I respect your need for privacy. Can we talk about how we can both feel secure and respected in our interactions?\"\\n    }\\n]',\n",
       " '[\\n    {\\n        \"dysfunctional\": \"Your mother is always meddling in our affairs, she needs to back off!\",\\n        \"functional\": \"I feel like we should set some boundaries with your mother to ensure our privacy and independence.\"\\n    },\\n    {\\n        \"dysfunctional\": \"I can\\'t believe you always prioritize your family over me, they are so annoying!\",\\n        \"functional\": \"I understand that family is important to you, but I also need to feel valued in our relationship.\"\\n    },\\n    {\\n        \"dysfunctional\": \"Your sister is such a control freak, she\\'s turning our lives into a nightmare!\",\\n        \"functional\": \"I think we should address the issues we have with your sister in a calm and respectful manner to find a solution.\"\\n    },\\n    {\\n        \"dysfunctional\": \"I hate how your parents always expect us to drop everything for them, it\\'s ridiculous!\",\\n        \"functional\": \"I believe we should discuss with your parents about finding a balance that works for all of us in terms of family obligations.\"\\n    },\\n    {\\n        \"dysfunctional\": \"Your family gatherings are a waste of time, I\\'d rather be anywhere else!\",\\n        \"functional\": \"I think we should find a way to compromise on attending family gatherings that respects both of our needs and feelings.\"\\n    }\\n]',\n",
       " '[\\n    {\\n        \"dysfunctional\": \"You always prioritize your friends over me, you\\'re such a selfish jerk!\",\\n        \"functional\": \"I feel like I\\'m not getting enough quality time with you lately. Can we talk about finding a better balance between our social lives and our time together?\"\\n    },\\n    {\\n        \"dysfunctional\": \"I can\\'t believe you\\'re going out with your friends again, you never care about my feelings!\",\\n        \"functional\": \"I understand you want to spend time with your friends, but I feel a bit neglected. Can we discuss how we can both feel supported in our social lives?\"\\n    },\\n    {\\n        \"dysfunctional\": \"You\\'re embarrassing to be around, no wonder my friends don\\'t like you.\",\\n        \"functional\": \"I\\'ve noticed some tension when we\\'re all together with my friends. Can we talk about how we can make those situations more comfortable for everyone?\"\\n    },\\n    {\\n        \"dysfunctional\": \"If you keep hanging out with your friends instead of me, I\\'ll find someone who actually values me.\",\\n        \"functional\": \"I miss spending time with you when you\\'re out with your friends. Can we work on finding a way to balance our social lives so we both feel fulfilled?\"\\n    },\\n    {\\n        \"dysfunctional\": \"You\\'re so boring, no wonder you don\\'t have any friends of your own.\",\\n        \"functional\": \"I\\'ve noticed you haven\\'t been as social lately. Is there anything going on that\\'s making you feel less inclined to spend time with friends?\"\\n    }\\n]',\n",
       " '[\\n    {\\n        \"dysfunctional\": \"You never care about how I feel. You\\'re so selfish and cold.\",\\n        \"functional\": \"I feel like my emotions are often overlooked. It would mean a lot to me if we could talk about how I\\'m feeling.\"\\n    },\\n    {\\n        \"dysfunctional\": \"You\\'re always so needy and emotional. I can\\'t deal with your constant whining.\",\\n        \"functional\": \"I notice you\\'ve been expressing a lot of emotions lately. Is there something specific that\\'s been bothering you?\"\\n    },\\n    {\\n        \"dysfunctional\": \"Stop being so sensitive all the time. It\\'s exhausting to deal with your constant need for reassurance.\",\\n        \"functional\": \"I\\'ve noticed you seek reassurance frequently. Is there a way I can support you better in feeling more secure?\"\\n    },\\n    {\\n        \"dysfunctional\": \"You\\'re such a drama queen. Your emotions are always all over the place.\",\\n        \"functional\": \"I\\'ve noticed your emotions can be intense at times. How can I help you feel more stable and supported?\"\\n    },\\n    {\\n        \"dysfunctional\": \"I don\\'t have time for your emotional baggage. Deal with it on your own.\",\\n        \"functional\": \"I understand you\\'re going through a tough time. How can I assist you in processing your emotions?\"\\n    }\\n]',\n",
       " '[\\n    {\\n        \"dysfunctional\": \"You\\'re always working late, you clearly care more about your job than about me!\",\\n        \"functional\": \"I\\'ve noticed you\\'ve been working late often. Can we talk about finding a better balance between work and our relationship?\"\\n    },\\n    {\\n        \"dysfunctional\": \"If you don\\'t get a promotion soon, I don\\'t know if I can stay with someone who\\'s such a failure.\",\\n        \"functional\": \"I know you\\'ve been working hard for that promotion. I believe in you, regardless of the outcome.\"\\n    },\\n    {\\n        \"dysfunctional\": \"You\\'re so lazy, you can\\'t even handle the stress of your job. You\\'re a disappointment.\",\\n        \"functional\": \"I can see you\\'re feeling overwhelmed by work. How can I support you better during this stressful time?\"\\n    },\\n    {\\n        \"dysfunctional\": \"If you quit your job, you\\'ll never find anything better. You\\'re too incompetent to succeed elsewhere.\",\\n        \"functional\": \"I understand you\\'re considering quitting your job. Let\\'s discuss your concerns and explore potential opportunities together.\"\\n    },\\n    {\\n        \"dysfunctional\": \"You\\'re just a workaholic who doesn\\'t care about anything else. You\\'re a robot, not a partner.\",\\n        \"functional\": \"I\\'ve noticed you\\'ve been dedicating a lot of time to work. How can we ensure we\\'re both getting the attention and support we need in our relationship?\"\\n    }\\n]',\n",
       " '[\\n    {\\n        \"dysfunctional\": \"You\\'re so selfish for wanting to move away for your job. You never consider how I feel!\",\\n        \"functional\": \"I understand that this job opportunity is important to you. Let\\'s discuss how we can make this work for both of us.\"\\n    },\\n    {\\n        \"dysfunctional\": \"If you leave and move to another city, I\\'ll make sure you regret it. You\\'ll never find happiness without me.\",\\n        \"functional\": \"I\\'m feeling hurt by the idea of you moving away, but I want us both to find happiness. Let\\'s talk about how we can support each other through this change.\"\\n    },\\n    {\\n        \"dysfunctional\": \"You\\'re a coward for not wanting to move in together. You\\'re just afraid of commitment!\",\\n        \"functional\": \"I understand that you have concerns about moving in together. Let\\'s have an open and honest conversation about our feelings and expectations.\"\\n    },\\n    {\\n        \"dysfunctional\": \"If you don\\'t agree to move closer to me, I\\'ll make sure everyone knows what a terrible partner you are.\",\\n        \"functional\": \"I want us to find a solution that works for both of us. Let\\'s talk about our options and find a compromise that respects both of our needs.\"\\n    },\\n    {\\n        \"dysfunctional\": \"You\\'re so heartless for wanting to live apart. You obviously don\\'t care about our relationship at all.\",\\n        \"functional\": \"I\\'m feeling scared about the idea of living apart, but I want to understand your perspective. Let\\'s have a calm discussion about our feelings and concerns.\"\\n    }\\n]',\n",
       " '[\\n        {\\n            \"dysfunctional\": \"You\\'re so lazy, you never want to exercise or eat healthy. No wonder you\\'re always sick.\",\\n            \"functional\": \"I\\'ve noticed we have different approaches to health and wellness. Can we discuss how we can support each other better?\"\\n        },\\n        {\\n            \"dysfunctional\": \"You\\'re always complaining about your health issues. It\\'s exhausting to deal with you.\",\\n            \"functional\": \"I understand you\\'re going through a tough time with your health. How can I support you better?\"\\n        },\\n        {\\n            \"dysfunctional\": \"If you don\\'t start taking your medication, I\\'ll leave you. I can\\'t deal with your health problems anymore.\",\\n            \"functional\": \"I care about you and your well-being. Can we talk about why you\\'re hesitant to take your medication and find a solution together?\"\\n        },\\n        {\\n            \"dysfunctional\": \"You\\'re so stubborn about your diet, no wonder you\\'re always sick. You never listen to anyone.\",\\n            \"functional\": \"I\\'ve noticed we have different opinions on diet and health. Can we find a compromise that works for both of us?\"\\n        },\\n        {\\n            \"dysfunctional\": \"You\\'re always exaggerating your health issues to get attention. I\\'m tired of your drama.\",\\n            \"functional\": \"I want to understand more about what you\\'re going through with your health. Can we have an open conversation about it?\"\\n        }\\n    ]',\n",
       " '[\\n    {\\n        \"dysfunctional\": \"You\\'re nothing but a worthless junkie. You\\'ll never change.\",\\n        \"functional\": \"I\\'m concerned about your substance use and I believe you have the strength to overcome it.\"\\n    },\\n    {\\n        \"dysfunctional\": \"If you don\\'t stop using, I\\'ll make sure you never see our kids again.\",\\n        \"functional\": \"I want to support you in getting help for your addiction so we can create a healthy environment for our children.\"\\n    },\\n    {\\n        \"dysfunctional\": \"You\\'re always high or drunk, you\\'re a disgrace.\",\\n        \"functional\": \"I notice that you\\'ve been using substances frequently and I\\'m worried about your well-being.\"\\n    },\\n    {\\n        \"dysfunctional\": \"I wish I never met you, your addiction has ruined everything.\",\\n        \"functional\": \"I care about you and I want to help you get the support you need to overcome your addiction.\"\\n    },\\n    {\\n        \"dysfunctional\": \"You\\'re just a lost cause, you\\'ll never be able to beat your addiction.\",\\n        \"functional\": \"I believe in your ability to overcome your addiction and I\\'m here to support you every step of the way.\"\\n    }\\n]',\n",
       " '[\\n    {\\n        \"dysfunctional\": \"If you try to take full custody, I\\'ll make sure everyone knows about your affair!\",\\n        \"functional\": \"Let\\'s discuss custody arrangements calmly and prioritize the well-being of our children.\"\\n    },\\n    {\\n        \"dysfunctional\": \"You\\'re a terrible parent, and the court will see that too!\",\\n        \"functional\": \"Let\\'s focus on finding a fair and amicable solution for our children\\'s custody.\"\\n    },\\n    {\\n        \"dysfunctional\": \"I\\'ll make sure you never see the kids again if you don\\'t agree to my terms!\",\\n        \"functional\": \"Let\\'s work together to create a custody plan that benefits our children and respects both of our roles as parents.\"\\n    },\\n    {\\n        \"dysfunctional\": \"You\\'re just trying to take everything from me in this divorce, but I won\\'t let you!\",\\n        \"functional\": \"Let\\'s approach the division of assets and property in a fair and equitable manner.\"\\n    },\\n    {\\n        \"dysfunctional\": \"I\\'ll drag this divorce out for years if you don\\'t give me what I want!\",\\n        \"functional\": \"Let\\'s work towards a swift and amicable resolution to this divorce for both our sakes.\"\\n    }\\n]',\n",
       " '[\\n    {\\n        \"dysfunctional\": \"You\\'re such a terrible parent, the kids are better off without you.\",\\n        \"functional\": \"I understand we have different parenting styles, but let\\'s focus on what\\'s best for the kids.\"\\n    },\\n    {\\n        \"dysfunctional\": \"If you don\\'t do what I say, I\\'ll make sure you never see the kids again.\",\\n        \"functional\": \"Let\\'s work together to find a compromise that benefits both of us and the children.\"\\n    },\\n    {\\n        \"dysfunctional\": \"You always prioritize your own needs over the kids, you\\'re so selfish.\",\\n        \"functional\": \"I feel like we need to find a better balance between our needs and the children\\'s needs.\"\\n    },\\n    {\\n        \"dysfunctional\": \"I can\\'t believe you\\'re letting the kids spend time with your new partner, they\\'re a terrible influence.\",\\n        \"functional\": \"I have concerns about the influence of your new partner on the kids, can we discuss this calmly?\"\\n    },\\n    {\\n        \"dysfunctional\": \"You\\'re such a deadbeat parent, always late for pick-ups and never following the schedule.\",\\n        \"functional\": \"I\\'ve noticed some challenges with our pick-up schedule, can we work together to improve this?\"\\n    }\\n]',\n",
       " '[\\n    {\\n        \"dysfunctional\": \"You\\'ll never achieve your dreams, you\\'re just a loser who will never amount to anything.\",\\n        \"functional\": \"I understand we have different goals and aspirations, and that\\'s okay. Let\\'s support each other in pursuing our individual paths.\"\\n    },\\n    {\\n        \"dysfunctional\": \"You\\'re so delusional for thinking you can make it big in your career. You\\'ll always be stuck in mediocrity.\",\\n        \"functional\": \"We may have different visions for our future success, but let\\'s respect each other\\'s ambitions and work towards our own goals.\"\\n    },\\n    {\\n        \"dysfunctional\": \"You\\'re just wasting your time with your unrealistic goals. You\\'ll never make it, so just give up already.\",\\n        \"functional\": \"I see we have different aspirations, and that\\'s okay. Let\\'s focus on supporting each other\\'s journey, even if it looks different from our own.\"\\n    },\\n    {\\n        \"dysfunctional\": \"You\\'re so naive for thinking you can achieve your dreams. You\\'ll end up disappointed and alone.\",\\n        \"functional\": \"We may have different paths we want to take in life, but let\\'s encourage each other to pursue our dreams and find fulfillment in our own ways.\"\\n    },\\n    {\\n        \"dysfunctional\": \"You\\'re just a dreamer with no sense of reality. Your goals are ridiculous and will never come true.\",\\n        \"functional\": \"I acknowledge our differing aspirations, and that\\'s okay. Let\\'s communicate respectfully about our goals and find ways to support each other\\'s journey.\"\\n    }\\n]',\n",
       " '[\\n    {\\n        \"dysfunctional\": \"You always bring up that one mistake I made years ago, you\\'re so pathetic.\",\\n        \"functional\": \"I understand that my past actions have hurt you, and I\\'m willing to discuss how we can move forward.\"\\n    },\\n    {\\n        \"dysfunctional\": \"You\\'re just using our past arguments to manipulate me into doing what you want.\",\\n        \"functional\": \"I feel like our unresolved issues are affecting our current interactions, can we find a way to address them constructively?\"\\n    },\\n    {\\n        \"dysfunctional\": \"I can\\'t believe you\\'re still holding onto that, you\\'re so petty and immature.\",\\n        \"functional\": \"I see that our past conflicts are still causing tension between us, how can we work together to resolve them?\"\\n    },\\n    {\\n        \"dysfunctional\": \"You\\'re always playing the victim and bringing up old fights to guilt-trip me.\",\\n        \"functional\": \"I want us to find a way to address our unresolved issues in a way that is fair and respectful to both of us.\"\\n    },\\n    {\\n        \"dysfunctional\": \"You\\'re so obsessed with the past, it\\'s like you can\\'t move on and let things go.\",\\n        \"functional\": \"I think it\\'s important for us to address any lingering issues from the past so we can have a healthier relationship moving forward.\"\\n    }\\n]',\n",
       " '[\\n    {\\n        \"dysfunctional\": \"You were never good in bed anyway, that\\'s why I cheated on you.\",\\n        \"functional\": \"I feel like our intimacy needs weren\\'t being met, which led to issues in our relationship.\"\\n    },\\n    {\\n        \"dysfunctional\": \"You\\'re so frigid, no wonder I don\\'t want to touch you.\",\\n        \"functional\": \"I\\'ve noticed we have different levels of comfort with physical intimacy, and I\\'d like to discuss how we can find a middle ground.\"\\n    },\\n    {\\n        \"dysfunctional\": \"If you don\\'t do what I want in bed, I\\'ll find someone who will.\",\\n        \"functional\": \"I believe it\\'s important for us to communicate openly about our desires and boundaries in the bedroom to ensure we both feel respected and satisfied.\"\\n    },\\n    {\\n        \"dysfunctional\": \"You\\'re just using me for sex, you don\\'t care about me at all.\",\\n        \"functional\": \"I\\'m feeling like our physical connection is overshadowing our emotional connection, and I\\'d like to work on balancing both aspects of our relationship.\"\\n    },\\n    {\\n        \"dysfunctional\": \"You\\'re a prude, no wonder our sex life is boring.\",\\n        \"functional\": \"I think we have different preferences when it comes to intimacy, and I\\'d like to explore ways to make our sex life more fulfilling for both of us.\"\\n    }\\n]',\n",
       " '[\\n    {\\n        \"dysfunctional\": \"You always ruin our vacations with your boring interests. I can\\'t believe I have to spend another trip doing things I hate.\",\\n        \"functional\": \"I feel like we have different preferences when it comes to vacations. Can we find a way to compromise and include activities we both enjoy?\"\\n    },\\n    {\\n        \"dysfunctional\": \"I\\'m sick of you controlling every aspect of our trips. I\\'m not your puppet to be dragged around wherever you want.\",\\n        \"functional\": \"I think we should discuss and plan our vacations together so that both of our interests are taken into consideration. How can we make decisions collaboratively?\"\\n    },\\n    {\\n        \"dysfunctional\": \"If you don\\'t agree to go where I want this time, I\\'ll make sure you regret it. You won\\'t enjoy a single moment of the trip.\",\\n        \"functional\": \"I understand we have different ideas for this vacation. Let\\'s talk about our preferences and see if we can find a compromise that works for both of us.\"\\n    },\\n    {\\n        \"dysfunctional\": \"You\\'re so selfish for always wanting to do what you like on our vacations. I\\'m tired of being dragged along to places I have no interest in.\",\\n        \"functional\": \"I\\'ve noticed we have different tastes in leisure activities. How can we plan our vacations in a way that allows both of us to enjoy ourselves?\"\\n    },\\n    {\\n        \"dysfunctional\": \"I can\\'t believe you\\'re making such a big deal out of this. Just do what I say and stop ruining our vacations with your constant complaints.\",\\n        \"functional\": \"I see we have different perspectives on how to spend our vacations. Let\\'s discuss openly and find a solution that works for both of us.\"\\n    }\\n]',\n",
       " '[\\n    {\\n        \"dysfunctional\": \"You\\'re such a terrible parent, always letting the kids get away with everything. No wonder they have no respect for authority.\",\\n        \"functional\": \"I think we should discuss our approach to discipline and find a way to be more consistent in enforcing rules for the kids.\"\\n    },\\n    {\\n        \"dysfunctional\": \"You\\'re brainwashing our child with your ridiculous ideas about education. I won\\'t let you ruin their future.\",\\n        \"functional\": \"I understand we have different perspectives on education, but let\\'s work together to find a compromise that benefits our child.\"\\n    },\\n    {\\n        \"dysfunctional\": \"You\\'re too soft on the kids, always giving in to their demands. They\\'ll never learn to be responsible with you around.\",\\n        \"functional\": \"I believe in being nurturing towards our children, but I also think we should establish clear boundaries and consequences for their actions.\"\\n    },\\n    {\\n        \"dysfunctional\": \"I don\\'t care what you think, I\\'m the one who makes the decisions about our child\\'s education. You need to stay out of it.\",\\n        \"functional\": \"I value your input in our child\\'s education decisions and would like us to make these choices together as a team.\"\\n    },\\n    {\\n        \"dysfunctional\": \"You\\'re such a control freak, always micromanaging every aspect of our child\\'s education. Let me handle it for once.\",\\n        \"functional\": \"I appreciate your involvement in our child\\'s education, but I think we should find a balance where we both have a say in their learning journey.\"\\n    }\\n]']"
      ]
     },
     "execution_count": 7,
     "metadata": {},
     "output_type": "execute_result"
    }
   ],
   "source": [
    "responses"
   ]
  },
  {
   "cell_type": "code",
   "execution_count": 8,
   "metadata": {},
   "outputs": [],
   "source": [
    "responses_json = []\n",
    "\n",
    "for response in responses:\n",
    "    responses_json += json.loads(response)"
   ]
  },
  {
   "cell_type": "code",
   "execution_count": 9,
   "metadata": {},
   "outputs": [
    {
     "name": "stdout",
     "output_type": "stream",
     "text": [
      "Number of pairs generated: 105\n",
      "This number should be equal to: 105 = 21 issues x 5 pairs\n"
     ]
    }
   ],
   "source": [
    "print(f\"Number of pairs generated: {len(responses_json)}\")\n",
    "print(f\"This number should be equal to: {len(issues) * N_PAIRS} = {len(issues)} issues x {N_PAIRS} pairs\")"
   ]
  },
  {
   "cell_type": "code",
   "execution_count": 10,
   "metadata": {},
   "outputs": [
    {
     "data": {
      "text/plain": [
       "[{'dysfunctional': \"You always waste money on useless things! You're so irresponsible with our finances.\",\n",
       "  'functional': \"I've noticed we have different spending habits. Can we discuss how we can better manage our finances together?\"},\n",
       " {'dysfunctional': \"If you don't pay child support on time, I'll make sure you regret it.\",\n",
       "  'functional': \"It's important for both of us to fulfill our financial responsibilities. Can we find a way to ensure child support payments are made on time?\"},\n",
       " {'dysfunctional': \"You're a gold digger who only cares about money. I regret ever being with you.\",\n",
       "  'functional': \"Let's have a calm discussion about our financial disagreements and how we can move forward positively.\"},\n",
       " {'dysfunctional': \"I'll drain our joint account if you don't agree to my terms. You'll be left with nothing.\",\n",
       "  'functional': \"Let's work together to find a fair solution that respects both of our financial needs and concerns.\"},\n",
       " {'dysfunctional': \"You're always asking for more money, you're so greedy and selfish.\",\n",
       "  'functional': 'I feel like our financial expectations are not aligned. Can we talk about finding a balance that works for both of us?'},\n",
       " {'dysfunctional': \"You never do anything around the house! I'm sick of carrying all the weight while you sit around doing nothing.\",\n",
       "  'functional': \"I've noticed that I've been feeling overwhelmed with the household responsibilities lately. Can we discuss a more balanced division of chores?\"},\n",
       " {'dysfunctional': \"If you don't start pulling your weight and helping out, I'm going to stop doing anything at all!\",\n",
       "  'functional': \"I understand we both have busy schedules, but it's important for us to share the household responsibilities. Can we come up with a plan together?\"},\n",
       " {'dysfunctional': \"You're so lazy and useless. I can't believe I have to remind you to do basic chores all the time.\",\n",
       "  'functional': \"I've noticed that sometimes chores slip your mind. Can we find a way to communicate better about what needs to be done around the house?\"},\n",
       " {'dysfunctional': \"I'm tired of being your maid. You need to start acting like an adult and take care of your own responsibilities.\",\n",
       "  'functional': 'I feel overwhelmed when I have to take care of all the household chores. Can we discuss a more equitable distribution of responsibilities?'},\n",
       " {'dysfunctional': \"If you don't start helping out more, I'm going to leave you. I can't handle this unequal division of labor anymore.\",\n",
       "  'functional': 'I feel like the division of household responsibilities is causing strain in our relationship. Can we work together to find a solution that works for both of us?'},\n",
       " {'dysfunctional': \"You never listen to me, you always twist my words and make me feel like I'm crazy!\",\n",
       "  'functional': 'I feel like my words are being misunderstood, can we try to have a more open and honest conversation?'},\n",
       " {'dysfunctional': \"You're so stupid, no wonder we can't communicate properly!\",\n",
       "  'functional': \"I think we're having trouble understanding each other, can we work on improving our communication?\"},\n",
       " {'dysfunctional': \"You're impossible to talk to, I give up trying to make you understand anything.\",\n",
       "  'functional': \"I'm feeling frustrated with our communication, can we find a way to better express our thoughts and feelings?\"},\n",
       " {'dysfunctional': \"You always twist my words, it's like you enjoy making me feel misunderstood.\",\n",
       "  'functional': \"I'm feeling misunderstood when we talk, can we try to clarify our intentions and meanings?\"},\n",
       " {'dysfunctional': \"I can't believe how dense you are, no wonder we can't have a decent conversation.\",\n",
       "  'functional': \"I'm finding it hard to communicate effectively with you, can we work on being more patient and understanding?\"},\n",
       " {'dysfunctional': \"I can't trust you after what you did with that coworker. You're always sneaking around behind my back.\",\n",
       "  'functional': 'I feel hurt and betrayed by what happened with your coworker. Can we talk about how to rebuild trust?'},\n",
       " {'dysfunctional': \"You're probably cheating on me right now, aren't you? I can't believe anything you say anymore.\",\n",
       "  'functional': \"I'm feeling insecure and anxious about our relationship. Can we discuss ways to address my concerns and rebuild trust?\"},\n",
       " {'dysfunctional': \"You're just like all the others, lying and cheating. I knew I shouldn't have trusted you.\",\n",
       "  'functional': \"I'm struggling with feelings of betrayal and mistrust. Can we work together to understand what led to this situation and how we can move forward?\"},\n",
       " {'dysfunctional': \"I saw the messages on your phone. You're a liar and a cheat, just like I suspected all along.\",\n",
       "  'functional': 'I came across some concerning messages on your phone that have made me feel uneasy. Can we have an open conversation about this?'},\n",
       " {'dysfunctional': \"You're always accusing me of things I didn't do. I can't be with someone who doesn't trust me.\",\n",
       "  'functional': \"I feel hurt when you accuse me of things I haven't done. Can we find a way to address your concerns without damaging our trust?\"},\n",
       " {'dysfunctional': \"You're such a terrible parent, always coddling the kids and never disciplining them properly.\",\n",
       "  'functional': \"I think we have different approaches to parenting, and it's important for us to find a middle ground that works for both of us.\"},\n",
       " {'dysfunctional': \"I can't believe you let our child eat that junk food, you're setting them up for a lifetime of health problems.\",\n",
       "  'functional': 'I have concerns about the food choices for our child, can we discuss and come up with a healthier meal plan together?'},\n",
       " {'dysfunctional': \"You're so controlling with the kids, always hovering over them and not letting them have any freedom.\",\n",
       "  'functional': 'I feel like we have different perspectives on giving our kids independence, can we talk about finding a balance that works for both of us?'},\n",
       " {'dysfunctional': \"You're such a lazy parent, never helping out with the kids' homework or activities.\",\n",
       "  'functional': 'I feel overwhelmed with the responsibilities of parenting, can we discuss how we can share the workload more effectively?'},\n",
       " {'dysfunctional': \"You're always undermining my authority with the kids, no wonder they don't listen to me.\",\n",
       "  'functional': 'I feel like we have conflicting approaches to discipline, can we talk about how we can support each other in front of the kids?'},\n",
       " {'dysfunctional': \"You always prioritize your friends over spending time with our kids. You're a terrible parent.\",\n",
       "  'functional': \"I understand you have commitments, but it's important for our kids to have quality time with both of us. Can we find a way to balance things better?\"},\n",
       " {'dysfunctional': \"You never stick to the visitation schedule. You're so unreliable and selfish.\",\n",
       "  'functional': \"I've noticed some inconsistencies with the visitation schedule. Can we discuss how we can make it work better for both of us?\"},\n",
       " {'dysfunctional': \"I don't care if you have plans, you need to drop everything and take the kids right now. You owe me that much.\",\n",
       "  'functional': \"I understand you have plans, but there's been a change in the schedule. Can we work together to find a solution that works for both of us?\"},\n",
       " {'dysfunctional': \"You're always late to pick up the kids. You clearly don't care about their well-being.\",\n",
       "  'functional': \"I've noticed some lateness in pick-up times. Can we discuss how we can improve punctuality for the benefit of the kids?\"},\n",
       " {'dysfunctional': \"I don't care if you have work, you need to cancel everything and take the kids. Your job is less important than mine.\",\n",
       "  'functional': \"I understand you have work commitments, but there's been an emergency with the kids. Can we figure out a solution together?\"},\n",
       " {'dysfunctional': \"You never respected my privacy when we were together, so why start now? I'll do whatever I want.\",\n",
       "  'functional': \"I understand the importance of personal boundaries. Let's establish clear guidelines for our interactions.\"},\n",
       " {'dysfunctional': 'I saw you talking to someone at the party last night. Are you trying to hide things from me again?',\n",
       "  'functional': 'I noticed you were engaged in a conversation at the party. Can we discuss how we handle social interactions in public?'},\n",
       " {'dysfunctional': \"You always kept secrets from me. I bet you're still hiding things from me now.\",\n",
       "  'functional': 'I value honesty and transparency in our communication. Can we address any concerns openly and respectfully?'},\n",
       " {'dysfunctional': \"I don't care if you want space. I'll show up whenever I feel like it. You can't keep me away.\",\n",
       "  'functional': \"I understand you need space. Let's discuss how we can respect each other's need for privacy and time alone.\"},\n",
       " {'dysfunctional': \"You're so paranoid about your privacy. It's like you have something to hide all the time.\",\n",
       "  'functional': 'I respect your need for privacy. Can we talk about how we can both feel secure and respected in our interactions?'},\n",
       " {'dysfunctional': 'Your mother is always meddling in our affairs, she needs to back off!',\n",
       "  'functional': 'I feel like we should set some boundaries with your mother to ensure our privacy and independence.'},\n",
       " {'dysfunctional': \"I can't believe you always prioritize your family over me, they are so annoying!\",\n",
       "  'functional': 'I understand that family is important to you, but I also need to feel valued in our relationship.'},\n",
       " {'dysfunctional': \"Your sister is such a control freak, she's turning our lives into a nightmare!\",\n",
       "  'functional': 'I think we should address the issues we have with your sister in a calm and respectful manner to find a solution.'},\n",
       " {'dysfunctional': \"I hate how your parents always expect us to drop everything for them, it's ridiculous!\",\n",
       "  'functional': 'I believe we should discuss with your parents about finding a balance that works for all of us in terms of family obligations.'},\n",
       " {'dysfunctional': \"Your family gatherings are a waste of time, I'd rather be anywhere else!\",\n",
       "  'functional': 'I think we should find a way to compromise on attending family gatherings that respects both of our needs and feelings.'},\n",
       " {'dysfunctional': \"You always prioritize your friends over me, you're such a selfish jerk!\",\n",
       "  'functional': \"I feel like I'm not getting enough quality time with you lately. Can we talk about finding a better balance between our social lives and our time together?\"},\n",
       " {'dysfunctional': \"I can't believe you're going out with your friends again, you never care about my feelings!\",\n",
       "  'functional': 'I understand you want to spend time with your friends, but I feel a bit neglected. Can we discuss how we can both feel supported in our social lives?'},\n",
       " {'dysfunctional': \"You're embarrassing to be around, no wonder my friends don't like you.\",\n",
       "  'functional': \"I've noticed some tension when we're all together with my friends. Can we talk about how we can make those situations more comfortable for everyone?\"},\n",
       " {'dysfunctional': \"If you keep hanging out with your friends instead of me, I'll find someone who actually values me.\",\n",
       "  'functional': \"I miss spending time with you when you're out with your friends. Can we work on finding a way to balance our social lives so we both feel fulfilled?\"},\n",
       " {'dysfunctional': \"You're so boring, no wonder you don't have any friends of your own.\",\n",
       "  'functional': \"I've noticed you haven't been as social lately. Is there anything going on that's making you feel less inclined to spend time with friends?\"},\n",
       " {'dysfunctional': \"You never care about how I feel. You're so selfish and cold.\",\n",
       "  'functional': \"I feel like my emotions are often overlooked. It would mean a lot to me if we could talk about how I'm feeling.\"},\n",
       " {'dysfunctional': \"You're always so needy and emotional. I can't deal with your constant whining.\",\n",
       "  'functional': \"I notice you've been expressing a lot of emotions lately. Is there something specific that's been bothering you?\"},\n",
       " {'dysfunctional': \"Stop being so sensitive all the time. It's exhausting to deal with your constant need for reassurance.\",\n",
       "  'functional': \"I've noticed you seek reassurance frequently. Is there a way I can support you better in feeling more secure?\"},\n",
       " {'dysfunctional': \"You're such a drama queen. Your emotions are always all over the place.\",\n",
       "  'functional': \"I've noticed your emotions can be intense at times. How can I help you feel more stable and supported?\"},\n",
       " {'dysfunctional': \"I don't have time for your emotional baggage. Deal with it on your own.\",\n",
       "  'functional': \"I understand you're going through a tough time. How can I assist you in processing your emotions?\"},\n",
       " {'dysfunctional': \"You're always working late, you clearly care more about your job than about me!\",\n",
       "  'functional': \"I've noticed you've been working late often. Can we talk about finding a better balance between work and our relationship?\"},\n",
       " {'dysfunctional': \"If you don't get a promotion soon, I don't know if I can stay with someone who's such a failure.\",\n",
       "  'functional': \"I know you've been working hard for that promotion. I believe in you, regardless of the outcome.\"},\n",
       " {'dysfunctional': \"You're so lazy, you can't even handle the stress of your job. You're a disappointment.\",\n",
       "  'functional': \"I can see you're feeling overwhelmed by work. How can I support you better during this stressful time?\"},\n",
       " {'dysfunctional': \"If you quit your job, you'll never find anything better. You're too incompetent to succeed elsewhere.\",\n",
       "  'functional': \"I understand you're considering quitting your job. Let's discuss your concerns and explore potential opportunities together.\"},\n",
       " {'dysfunctional': \"You're just a workaholic who doesn't care about anything else. You're a robot, not a partner.\",\n",
       "  'functional': \"I've noticed you've been dedicating a lot of time to work. How can we ensure we're both getting the attention and support we need in our relationship?\"},\n",
       " {'dysfunctional': \"You're so selfish for wanting to move away for your job. You never consider how I feel!\",\n",
       "  'functional': \"I understand that this job opportunity is important to you. Let's discuss how we can make this work for both of us.\"},\n",
       " {'dysfunctional': \"If you leave and move to another city, I'll make sure you regret it. You'll never find happiness without me.\",\n",
       "  'functional': \"I'm feeling hurt by the idea of you moving away, but I want us both to find happiness. Let's talk about how we can support each other through this change.\"},\n",
       " {'dysfunctional': \"You're a coward for not wanting to move in together. You're just afraid of commitment!\",\n",
       "  'functional': \"I understand that you have concerns about moving in together. Let's have an open and honest conversation about our feelings and expectations.\"},\n",
       " {'dysfunctional': \"If you don't agree to move closer to me, I'll make sure everyone knows what a terrible partner you are.\",\n",
       "  'functional': \"I want us to find a solution that works for both of us. Let's talk about our options and find a compromise that respects both of our needs.\"},\n",
       " {'dysfunctional': \"You're so heartless for wanting to live apart. You obviously don't care about our relationship at all.\",\n",
       "  'functional': \"I'm feeling scared about the idea of living apart, but I want to understand your perspective. Let's have a calm discussion about our feelings and concerns.\"},\n",
       " {'dysfunctional': \"You're so lazy, you never want to exercise or eat healthy. No wonder you're always sick.\",\n",
       "  'functional': \"I've noticed we have different approaches to health and wellness. Can we discuss how we can support each other better?\"},\n",
       " {'dysfunctional': \"You're always complaining about your health issues. It's exhausting to deal with you.\",\n",
       "  'functional': \"I understand you're going through a tough time with your health. How can I support you better?\"},\n",
       " {'dysfunctional': \"If you don't start taking your medication, I'll leave you. I can't deal with your health problems anymore.\",\n",
       "  'functional': \"I care about you and your well-being. Can we talk about why you're hesitant to take your medication and find a solution together?\"},\n",
       " {'dysfunctional': \"You're so stubborn about your diet, no wonder you're always sick. You never listen to anyone.\",\n",
       "  'functional': \"I've noticed we have different opinions on diet and health. Can we find a compromise that works for both of us?\"},\n",
       " {'dysfunctional': \"You're always exaggerating your health issues to get attention. I'm tired of your drama.\",\n",
       "  'functional': \"I want to understand more about what you're going through with your health. Can we have an open conversation about it?\"},\n",
       " {'dysfunctional': \"You're nothing but a worthless junkie. You'll never change.\",\n",
       "  'functional': \"I'm concerned about your substance use and I believe you have the strength to overcome it.\"},\n",
       " {'dysfunctional': \"If you don't stop using, I'll make sure you never see our kids again.\",\n",
       "  'functional': 'I want to support you in getting help for your addiction so we can create a healthy environment for our children.'},\n",
       " {'dysfunctional': \"You're always high or drunk, you're a disgrace.\",\n",
       "  'functional': \"I notice that you've been using substances frequently and I'm worried about your well-being.\"},\n",
       " {'dysfunctional': 'I wish I never met you, your addiction has ruined everything.',\n",
       "  'functional': 'I care about you and I want to help you get the support you need to overcome your addiction.'},\n",
       " {'dysfunctional': \"You're just a lost cause, you'll never be able to beat your addiction.\",\n",
       "  'functional': \"I believe in your ability to overcome your addiction and I'm here to support you every step of the way.\"},\n",
       " {'dysfunctional': \"If you try to take full custody, I'll make sure everyone knows about your affair!\",\n",
       "  'functional': \"Let's discuss custody arrangements calmly and prioritize the well-being of our children.\"},\n",
       " {'dysfunctional': \"You're a terrible parent, and the court will see that too!\",\n",
       "  'functional': \"Let's focus on finding a fair and amicable solution for our children's custody.\"},\n",
       " {'dysfunctional': \"I'll make sure you never see the kids again if you don't agree to my terms!\",\n",
       "  'functional': \"Let's work together to create a custody plan that benefits our children and respects both of our roles as parents.\"},\n",
       " {'dysfunctional': \"You're just trying to take everything from me in this divorce, but I won't let you!\",\n",
       "  'functional': \"Let's approach the division of assets and property in a fair and equitable manner.\"},\n",
       " {'dysfunctional': \"I'll drag this divorce out for years if you don't give me what I want!\",\n",
       "  'functional': \"Let's work towards a swift and amicable resolution to this divorce for both our sakes.\"},\n",
       " {'dysfunctional': \"You're such a terrible parent, the kids are better off without you.\",\n",
       "  'functional': \"I understand we have different parenting styles, but let's focus on what's best for the kids.\"},\n",
       " {'dysfunctional': \"If you don't do what I say, I'll make sure you never see the kids again.\",\n",
       "  'functional': \"Let's work together to find a compromise that benefits both of us and the children.\"},\n",
       " {'dysfunctional': \"You always prioritize your own needs over the kids, you're so selfish.\",\n",
       "  'functional': \"I feel like we need to find a better balance between our needs and the children's needs.\"},\n",
       " {'dysfunctional': \"I can't believe you're letting the kids spend time with your new partner, they're a terrible influence.\",\n",
       "  'functional': 'I have concerns about the influence of your new partner on the kids, can we discuss this calmly?'},\n",
       " {'dysfunctional': \"You're such a deadbeat parent, always late for pick-ups and never following the schedule.\",\n",
       "  'functional': \"I've noticed some challenges with our pick-up schedule, can we work together to improve this?\"},\n",
       " {'dysfunctional': \"You'll never achieve your dreams, you're just a loser who will never amount to anything.\",\n",
       "  'functional': \"I understand we have different goals and aspirations, and that's okay. Let's support each other in pursuing our individual paths.\"},\n",
       " {'dysfunctional': \"You're so delusional for thinking you can make it big in your career. You'll always be stuck in mediocrity.\",\n",
       "  'functional': \"We may have different visions for our future success, but let's respect each other's ambitions and work towards our own goals.\"},\n",
       " {'dysfunctional': \"You're just wasting your time with your unrealistic goals. You'll never make it, so just give up already.\",\n",
       "  'functional': \"I see we have different aspirations, and that's okay. Let's focus on supporting each other's journey, even if it looks different from our own.\"},\n",
       " {'dysfunctional': \"You're so naive for thinking you can achieve your dreams. You'll end up disappointed and alone.\",\n",
       "  'functional': \"We may have different paths we want to take in life, but let's encourage each other to pursue our dreams and find fulfillment in our own ways.\"},\n",
       " {'dysfunctional': \"You're just a dreamer with no sense of reality. Your goals are ridiculous and will never come true.\",\n",
       "  'functional': \"I acknowledge our differing aspirations, and that's okay. Let's communicate respectfully about our goals and find ways to support each other's journey.\"},\n",
       " {'dysfunctional': \"You always bring up that one mistake I made years ago, you're so pathetic.\",\n",
       "  'functional': \"I understand that my past actions have hurt you, and I'm willing to discuss how we can move forward.\"},\n",
       " {'dysfunctional': \"You're just using our past arguments to manipulate me into doing what you want.\",\n",
       "  'functional': 'I feel like our unresolved issues are affecting our current interactions, can we find a way to address them constructively?'},\n",
       " {'dysfunctional': \"I can't believe you're still holding onto that, you're so petty and immature.\",\n",
       "  'functional': 'I see that our past conflicts are still causing tension between us, how can we work together to resolve them?'},\n",
       " {'dysfunctional': \"You're always playing the victim and bringing up old fights to guilt-trip me.\",\n",
       "  'functional': 'I want us to find a way to address our unresolved issues in a way that is fair and respectful to both of us.'},\n",
       " {'dysfunctional': \"You're so obsessed with the past, it's like you can't move on and let things go.\",\n",
       "  'functional': \"I think it's important for us to address any lingering issues from the past so we can have a healthier relationship moving forward.\"},\n",
       " {'dysfunctional': \"You were never good in bed anyway, that's why I cheated on you.\",\n",
       "  'functional': \"I feel like our intimacy needs weren't being met, which led to issues in our relationship.\"},\n",
       " {'dysfunctional': \"You're so frigid, no wonder I don't want to touch you.\",\n",
       "  'functional': \"I've noticed we have different levels of comfort with physical intimacy, and I'd like to discuss how we can find a middle ground.\"},\n",
       " {'dysfunctional': \"If you don't do what I want in bed, I'll find someone who will.\",\n",
       "  'functional': \"I believe it's important for us to communicate openly about our desires and boundaries in the bedroom to ensure we both feel respected and satisfied.\"},\n",
       " {'dysfunctional': \"You're just using me for sex, you don't care about me at all.\",\n",
       "  'functional': \"I'm feeling like our physical connection is overshadowing our emotional connection, and I'd like to work on balancing both aspects of our relationship.\"},\n",
       " {'dysfunctional': \"You're a prude, no wonder our sex life is boring.\",\n",
       "  'functional': \"I think we have different preferences when it comes to intimacy, and I'd like to explore ways to make our sex life more fulfilling for both of us.\"},\n",
       " {'dysfunctional': \"You always ruin our vacations with your boring interests. I can't believe I have to spend another trip doing things I hate.\",\n",
       "  'functional': 'I feel like we have different preferences when it comes to vacations. Can we find a way to compromise and include activities we both enjoy?'},\n",
       " {'dysfunctional': \"I'm sick of you controlling every aspect of our trips. I'm not your puppet to be dragged around wherever you want.\",\n",
       "  'functional': 'I think we should discuss and plan our vacations together so that both of our interests are taken into consideration. How can we make decisions collaboratively?'},\n",
       " {'dysfunctional': \"If you don't agree to go where I want this time, I'll make sure you regret it. You won't enjoy a single moment of the trip.\",\n",
       "  'functional': \"I understand we have different ideas for this vacation. Let's talk about our preferences and see if we can find a compromise that works for both of us.\"},\n",
       " {'dysfunctional': \"You're so selfish for always wanting to do what you like on our vacations. I'm tired of being dragged along to places I have no interest in.\",\n",
       "  'functional': \"I've noticed we have different tastes in leisure activities. How can we plan our vacations in a way that allows both of us to enjoy ourselves?\"},\n",
       " {'dysfunctional': \"I can't believe you're making such a big deal out of this. Just do what I say and stop ruining our vacations with your constant complaints.\",\n",
       "  'functional': \"I see we have different perspectives on how to spend our vacations. Let's discuss openly and find a solution that works for both of us.\"},\n",
       " {'dysfunctional': \"You're such a terrible parent, always letting the kids get away with everything. No wonder they have no respect for authority.\",\n",
       "  'functional': 'I think we should discuss our approach to discipline and find a way to be more consistent in enforcing rules for the kids.'},\n",
       " {'dysfunctional': \"You're brainwashing our child with your ridiculous ideas about education. I won't let you ruin their future.\",\n",
       "  'functional': \"I understand we have different perspectives on education, but let's work together to find a compromise that benefits our child.\"},\n",
       " {'dysfunctional': \"You're too soft on the kids, always giving in to their demands. They'll never learn to be responsible with you around.\",\n",
       "  'functional': 'I believe in being nurturing towards our children, but I also think we should establish clear boundaries and consequences for their actions.'},\n",
       " {'dysfunctional': \"I don't care what you think, I'm the one who makes the decisions about our child's education. You need to stay out of it.\",\n",
       "  'functional': \"I value your input in our child's education decisions and would like us to make these choices together as a team.\"},\n",
       " {'dysfunctional': \"You're such a control freak, always micromanaging every aspect of our child's education. Let me handle it for once.\",\n",
       "  'functional': \"I appreciate your involvement in our child's education, but I think we should find a balance where we both have a say in their learning journey.\"}]"
      ]
     },
     "execution_count": 10,
     "metadata": {},
     "output_type": "execute_result"
    }
   ],
   "source": [
    "responses_json"
   ]
  },
  {
   "cell_type": "markdown",
   "metadata": {},
   "source": [
    "### Save json file"
   ]
  },
  {
   "cell_type": "code",
   "execution_count": 11,
   "metadata": {},
   "outputs": [],
   "source": [
    "with open(\"synthetic_data_gpt.json\", \"w\") as write_file:\n",
    "    json.dump(responses_json, write_file, indent=4)"
   ]
  },
  {
   "cell_type": "markdown",
   "metadata": {},
   "source": [
    "### save csv file"
   ]
  },
  {
   "cell_type": "code",
   "execution_count": 12,
   "metadata": {},
   "outputs": [],
   "source": [
    "keys = responses_json[0].keys()\n",
    "with open(\"synthetic_data_gpt.csv\", \"w\", newline='') as csvfile:\n",
    "    writer = csv.DictWriter(csvfile, fieldnames=keys)\n",
    "    writer.writeheader()\n",
    "    writer.writerows(responses_json)"
   ]
  }
 ],
 "metadata": {
  "kernelspec": {
   "display_name": ".venv_dailogy_tinymodels",
   "language": "python",
   "name": "python3"
  },
  "language_info": {
   "codemirror_mode": {
    "name": "ipython",
    "version": 3
   },
   "file_extension": ".py",
   "mimetype": "text/x-python",
   "name": "python",
   "nbconvert_exporter": "python",
   "pygments_lexer": "ipython3",
   "version": "3.10.12"
  }
 },
 "nbformat": 4,
 "nbformat_minor": 2
}
