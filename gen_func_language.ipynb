{
 "cells": [
  {
   "cell_type": "markdown",
   "metadata": {},
   "source": [
    "# Generate synthetic data\n",
    "\n",
    "We convert dysfunctional text into a more functional version using the OpenAI API with the `gpt-3.5-turbo` model."
   ]
  },
  {
   "cell_type": "code",
   "execution_count": 1,
   "metadata": {},
   "outputs": [
    {
     "name": "stderr",
     "output_type": "stream",
     "text": [
      "/home/daniele/Desktop/Projects/dailogy_synthetic_data/.venv_dailogy_sin_data/lib/python3.10/site-packages/environ/environ.py:639: UserWarning: /tmp/ipykernel_8893/.env doesn't exist - if you're not configuring your environment separately, create one.\n",
      "  warnings.warn(\n"
     ]
    }
   ],
   "source": [
    "import environ\n",
    "from openai import OpenAI\n",
    "import openai\n",
    "import json\n",
    "import csv\n",
    "from pathlib import Path\n",
    "\n",
    "# Import OpenAI key\n",
    "env = environ.Env()\n",
    "environ.Env.read_env()\n",
    "API_KEY = env(\"OPENAI_API_KEY\")\n",
    "openai.api_key = API_KEY\n",
    "\n",
    "# Set constanst\n",
    "LLM_MODEL = \"gpt-3.5-turbo\"\n",
    "TEMPERATURE = 0\n",
    "\n",
    "# Client\n",
    "client_openai = OpenAI()"
   ]
  },
  {
   "cell_type": "markdown",
   "metadata": {},
   "source": [
    "## Import json files"
   ]
  },
  {
   "cell_type": "code",
   "execution_count": 58,
   "metadata": {},
   "outputs": [],
   "source": [
    "# Folder with synthetic data\n",
    "directory = \"data_nb/\"\n",
    "gpt_file = \"synthetic_data_gpt.json\"\n",
    "ollama_file = \"synthetic_data_ollama.json\"\n",
    "\n",
    "\n",
    "path_gpt = Path(directory, gpt_file)\n",
    "path_ollama = Path(directory, ollama_file)\n",
    "\n",
    "with open(path_gpt, 'r') as file:\n",
    "    syn_data_gpt = json.load(file)\n",
    "\n",
    "with open(path_ollama, 'r') as file:\n",
    "    syn_data_ollama = json.load(file)"
   ]
  },
  {
   "cell_type": "markdown",
   "metadata": {},
   "source": [
    "## Convert to functional language"
   ]
  },
  {
   "cell_type": "code",
   "execution_count": 59,
   "metadata": {},
   "outputs": [
    {
     "data": {
      "text/plain": [
       "{'dysfunctional': \"You always waste money on useless things! You're so irresponsible with our finances.\",\n",
       " 'functional': \"I've noticed we have different spending habits. Can we discuss how we can better manage our finances together?\"}"
      ]
     },
     "execution_count": 59,
     "metadata": {},
     "output_type": "execute_result"
    }
   ],
   "source": [
    "syn_data_gpt[0]"
   ]
  },
  {
   "cell_type": "code",
   "execution_count": 60,
   "metadata": {},
   "outputs": [
    {
     "data": {
      "text/plain": [
       "{'dysfunctional': \"You're so irresponsible with money, always overspending and ruining our finances!\",\n",
       " 'functional': 'I am concerned about your spending habits. It would be helpful to discuss this together.'}"
      ]
     },
     "execution_count": 60,
     "metadata": {},
     "output_type": "execute_result"
    }
   ],
   "source": [
    "syn_data_ollama[0]"
   ]
  },
  {
   "cell_type": "code",
   "execution_count": 76,
   "metadata": {},
   "outputs": [],
   "source": [
    "def create_prompt(text:str) -> str:\n",
    "    prompt = f\"\"\"\n",
    "    Below is an instruction that describes a task.\n",
    "    Write a response that appropriately completes the request.\n",
    "    \n",
    "    ### Objective:\n",
    "    Transform the following text, which originates from the context of dysfunctional communication between couples, into functional language.\n",
    "    Make the text actionable or practical, while maintaining a natural, conversational tone.\n",
    "    \n",
    "    ### Instructions:\n",
    "    1. Review the provided text carefully.\n",
    "    2. Convert the text into functional, everyday language, focusing on making the content actionable and practical.\n",
    "    3. Aim for a conversational tone, as if explaining to a friend, to ensure the paragraph is engaging and accessible.\n",
    "    4. Ensure the transformed text promotes understanding, empathy, and positive communication, suitable for couples or ex-couples who need to interact constructively.\n",
    "    5. Always respond only with the transformed text and nothing else.\n",
    "    \n",
    "    ### Input \n",
    "    Please transform the following text into functional language:\n",
    "    \n",
    "    {text[\"dysfunctional\"]}\n",
    "    \"\"\"\n",
    "    return prompt\n",
    "\n",
    "\n",
    "def call_client(prompt:str, client_openai, llm_model:str, temperature:float) -> str:\n",
    "    completion = client_openai.chat.completions.create(\n",
    "        model=llm_model,\n",
    "        messages=[\n",
    "            # {\"role\": \"system\", \"content\": system_content},\n",
    "            {\"role\": \"user\", \"content\": prompt}\n",
    "        ],\n",
    "        temperature=temperature,\n",
    "    )\n",
    "    return completion.choices[0].message.content\n",
    "\n",
    "\n",
    "def pair_text(data_input:list[dict], responses:list) -> list:\n",
    "    paired_text = []\n",
    "\n",
    "    for dysfunctional, functional in zip(data_input, responses):\n",
    "        paired_text.append({\n",
    "            'dysfunctional': dysfunctional[\"dysfunctional\"],\n",
    "            'functional': functional\n",
    "        })\n",
    "\n",
    "    return paired_text\n",
    "\n",
    "\n",
    "def convert_functional_language(data:list[dict], client_openai, llm_model:str, temperature: float) -> list:\n",
    "\n",
    "    responses = []\n",
    "\n",
    "    for text in data:\n",
    "\n",
    "        prompt = create_prompt(text)\n",
    "        response = call_client(prompt, client_openai, llm_model, temperature)\n",
    "        responses.append(response)\n",
    "\n",
    "    print(f\"Length input: {len(data)}\")\n",
    "    print(f\"Length output: {len(responses)}\")\n",
    "\n",
    "    return pair_text(data, responses)"
   ]
  },
  {
   "cell_type": "code",
   "execution_count": 90,
   "metadata": {},
   "outputs": [
    {
     "name": "stdout",
     "output_type": "stream",
     "text": [
      "Length input: 2\n",
      "Length output: 2\n"
     ]
    }
   ],
   "source": [
    "functional_gpt = convert_functional_language(syn_data_gpt[:2], client_openai, LLM_MODEL, TEMPERATURE)"
   ]
  },
  {
   "cell_type": "code",
   "execution_count": 91,
   "metadata": {},
   "outputs": [
    {
     "name": "stdout",
     "output_type": "stream",
     "text": [
      "Length input: 2\n",
      "Length output: 2\n"
     ]
    }
   ],
   "source": [
    "functional_ollama = convert_functional_language(syn_data_ollama[:2], client_openai, LLM_MODEL, TEMPERATURE)"
   ]
  },
  {
   "cell_type": "code",
   "execution_count": 95,
   "metadata": {},
   "outputs": [
    {
     "data": {
      "text/plain": [
       "[{'dysfunctional': \"You always waste money on useless things! You're so irresponsible with our finances.\",\n",
       "  'functional': \"I've noticed that sometimes we spend money on things that may not be the best use of our resources. It would be helpful for us to discuss and make more thoughtful decisions together when it comes to our finances.\"},\n",
       " {'dysfunctional': \"If you don't pay child support on time, I'll make sure you regret it.\",\n",
       "  'functional': \"If we could work together to ensure child support is paid on time, it would really help our situation. Let's find a way to make sure this important responsibility is taken care of promptly.\"},\n",
       " {'dysfunctional': \"You're so irresponsible with money, always overspending and ruining our finances!\",\n",
       "  'functional': \"I've noticed that sometimes we struggle with managing our finances. It would be helpful for us to work together on creating a budget and sticking to it to avoid any financial stress. Let's have a conversation about how we can improve our money management skills and support each other in making better financial decisions.\"},\n",
       " {'dysfunctional': \"How could you let us get into this much debt? I can't believe how selfish and reckless you are.\",\n",
       "  'functional': \"I'm feeling overwhelmed by the amount of debt we're in. Can we talk about how we got here and come up with a plan together to address it?\"}]"
      ]
     },
     "execution_count": 95,
     "metadata": {},
     "output_type": "execute_result"
    }
   ],
   "source": [
    "functional_gpt + functional_ollama"
   ]
  },
  {
   "cell_type": "code",
   "execution_count": 96,
   "metadata": {},
   "outputs": [
    {
     "name": "stdout",
     "output_type": "stream",
     "text": [
      "[\n",
      "    {\n",
      "        \"dysfunctional\": \"You always waste money on useless things! You're so irresponsible with our finances.\",\n",
      "        \"functional\": \"I've noticed that sometimes we spend money on things that may not be the best use of our resources. It would be helpful for us to discuss and make more thoughtful decisions together when it comes to our finances.\"\n",
      "    },\n",
      "    {\n",
      "        \"dysfunctional\": \"If you don't pay child support on time, I'll make sure you regret it.\",\n",
      "        \"functional\": \"If we could work together to ensure child support is paid on time, it would really help our situation. Let's find a way to make sure this important responsibility is taken care of promptly.\"\n",
      "    },\n",
      "    {\n",
      "        \"dysfunctional\": \"You're so irresponsible with money, always overspending and ruining our finances!\",\n",
      "        \"functional\": \"I've noticed that sometimes we struggle with managing our finances. It would be helpful for us to work together on creating a budget and sticking to it to avoid any financial stress. Let's have a conversation about how we can improve our money management skills and support each other in making better financial decisions.\"\n",
      "    },\n",
      "    {\n",
      "        \"dysfunctional\": \"How could you let us get into this much debt? I can't believe how selfish and reckless you are.\",\n",
      "        \"functional\": \"I'm feeling overwhelmed by the amount of debt we're in. Can we talk about how we got here and come up with a plan together to address it?\"\n",
      "    }\n",
      "]\n"
     ]
    }
   ],
   "source": [
    "print( json.dumps(functional_gpt + functional_ollama, indent=4) )"
   ]
  }
 ],
 "metadata": {
  "kernelspec": {
   "display_name": ".venv_dailogy_tinymodels",
   "language": "python",
   "name": "python3"
  },
  "language_info": {
   "codemirror_mode": {
    "name": "ipython",
    "version": 3
   },
   "file_extension": ".py",
   "mimetype": "text/x-python",
   "name": "python",
   "nbconvert_exporter": "python",
   "pygments_lexer": "ipython3",
   "version": "3.10.12"
  }
 },
 "nbformat": 4,
 "nbformat_minor": 2
}
